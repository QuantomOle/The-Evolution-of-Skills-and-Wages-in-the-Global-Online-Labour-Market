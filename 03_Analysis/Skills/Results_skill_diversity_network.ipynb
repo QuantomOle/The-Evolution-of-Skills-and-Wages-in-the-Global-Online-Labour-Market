{
 "cells": [
  {
   "cell_type": "markdown",
   "metadata": {},
   "source": [
    "# Analysing network based skill diversity"
   ]
  },
  {
   "cell_type": "code",
   "execution_count": 1,
   "metadata": {},
   "outputs": [],
   "source": [
    "import numpy as np\n",
    "import ast\n",
    "import re\n",
    "import pandas as pd\n",
    "import matplotlib.pyplot as plt\n",
    "import seaborn as sns\n",
    "import datetime\n",
    "import plotly.graph_objects as go\n",
    "%matplotlib inline"
   ]
  },
  {
   "cell_type": "code",
   "execution_count": 2,
   "metadata": {},
   "outputs": [],
   "source": [
    "df = pd.read_json(\"final_data.json\")"
   ]
  },
  {
   "cell_type": "code",
   "execution_count": 20,
   "metadata": {},
   "outputs": [
    {
     "data": {
      "text/plain": [
       "1     387535\n",
       "2     209491\n",
       "3     110687\n",
       "4      31211\n",
       "5       7360\n",
       "6       1862\n",
       "7        494\n",
       "8        113\n",
       "9         15\n",
       "10         4\n",
       "Name: skill_diversity, dtype: int64"
      ]
     },
     "execution_count": 20,
     "metadata": {},
     "output_type": "execute_result"
    }
   ],
   "source": [
    "# Exclude everything above 8?\n",
    "df.skill_diversity.value_counts()"
   ]
  },
  {
   "cell_type": "code",
   "execution_count": 22,
   "metadata": {},
   "outputs": [
    {
     "data": {
      "text/plain": [
       "3      118558\n",
       "2      117453\n",
       "1      111836\n",
       "4       98469\n",
       "5       95463\n",
       "        ...  \n",
       "55          1\n",
       "84          1\n",
       "88          1\n",
       "98          1\n",
       "106         1\n",
       "Name: skill_count, Length: 77, dtype: int64"
      ]
     },
     "execution_count": 22,
     "metadata": {},
     "output_type": "execute_result"
    }
   ],
   "source": [
    "# Exclude everything above 30 ? \n",
    "df.skill_count.value_counts()"
   ]
  },
  {
   "cell_type": "markdown",
   "metadata": {},
   "source": [
    "# 1. Static"
   ]
  },
  {
   "cell_type": "markdown",
   "metadata": {},
   "source": [
    "## 1.1 Mean skill diversity overall"
   ]
  },
  {
   "cell_type": "code",
   "execution_count": 92,
   "metadata": {},
   "outputs": [
    {
     "data": {
      "text/plain": [
       "1.0"
      ]
     },
     "execution_count": 92,
     "metadata": {},
     "output_type": "execute_result"
    }
   ],
   "source": [
    "df.skill_diversity.median()"
   ]
  },
  {
   "cell_type": "code",
   "execution_count": 94,
   "metadata": {},
   "outputs": [],
   "source": [
    "#sns.distplot(df[\"skill_diversity\"])"
   ]
  },
  {
   "cell_type": "code",
   "execution_count": 30,
   "metadata": {},
   "outputs": [
    {
     "name": "stdout",
     "output_type": "stream",
     "text": [
      "1 cluster: 51.75607528059276\n",
      "2 cluster 27.977942551270612\n",
      "3 cluster 14.78247049836265\n",
      "4 cluster 4.1682915493634916\n",
      "more than 4 cluster 1.3152201204104854\n"
     ]
    }
   ],
   "source": [
    "total = df.shape[0]\n",
    "\n",
    "# % 1 cluster\n",
    "print(\"1 cluster:\",(387535/total)*100)\n",
    "# % 2 cluster\n",
    "print(\"2 cluster\",(209491/total)*100)\n",
    "# % 3 cluster\n",
    "print(\"3 cluster\",(110687/total)*100)\n",
    "# % 4 cluster\n",
    "print(\"4 cluster\",(31211/total)*100)\n",
    "# % more than 4\n",
    "print(\"more than 4 cluster\",(9848/total)*100)"
   ]
  },
  {
   "cell_type": "code",
   "execution_count": 48,
   "metadata": {},
   "outputs": [
    {
     "data": {
      "text/html": [
       "<div>\n",
       "<style scoped>\n",
       "    .dataframe tbody tr th:only-of-type {\n",
       "        vertical-align: middle;\n",
       "    }\n",
       "\n",
       "    .dataframe tbody tr th {\n",
       "        vertical-align: top;\n",
       "    }\n",
       "\n",
       "    .dataframe thead th {\n",
       "        text-align: right;\n",
       "    }\n",
       "</style>\n",
       "<table border=\"1\" class=\"dataframe\">\n",
       "  <thead>\n",
       "    <tr style=\"text-align: right;\">\n",
       "      <th></th>\n",
       "      <th>year</th>\n",
       "      <th>date_2</th>\n",
       "      <th>skill_diversity</th>\n",
       "      <th>adj_rate</th>\n",
       "    </tr>\n",
       "  </thead>\n",
       "  <tbody>\n",
       "    <tr>\n",
       "      <th>0</th>\n",
       "      <td>2016</td>\n",
       "      <td>43496</td>\n",
       "      <td>1.673326</td>\n",
       "      <td>29.0</td>\n",
       "    </tr>\n",
       "    <tr>\n",
       "      <th>1</th>\n",
       "      <td>2017</td>\n",
       "      <td>263687</td>\n",
       "      <td>1.761911</td>\n",
       "      <td>27.9</td>\n",
       "    </tr>\n",
       "    <tr>\n",
       "      <th>2</th>\n",
       "      <td>2018</td>\n",
       "      <td>163779</td>\n",
       "      <td>1.743423</td>\n",
       "      <td>28.2</td>\n",
       "    </tr>\n",
       "    <tr>\n",
       "      <th>3</th>\n",
       "      <td>2019</td>\n",
       "      <td>277808</td>\n",
       "      <td>1.774665</td>\n",
       "      <td>28.7</td>\n",
       "    </tr>\n",
       "  </tbody>\n",
       "</table>\n",
       "</div>"
      ],
      "text/plain": [
       "   year  date_2  skill_diversity  adj_rate\n",
       "0  2016   43496         1.673326      29.0\n",
       "1  2017  263687         1.761911      27.9\n",
       "2  2018  163779         1.743423      28.2\n",
       "3  2019  277808         1.774665      28.7"
      ]
     },
     "execution_count": 48,
     "metadata": {},
     "output_type": "execute_result"
    }
   ],
   "source": [
    "# skill diversity by year\n",
    "year = df.groupby(['year'],as_index=False) \\\n",
    "       .agg({'date_2':'size',\"skill_diversity\":\"mean\",\"adj_rate\":\"median\"})\n",
    "year"
   ]
  },
  {
   "cell_type": "markdown",
   "metadata": {},
   "source": [
    "## 1.2 Skill diversity by skill level"
   ]
  },
  {
   "cell_type": "code",
   "execution_count": 39,
   "metadata": {},
   "outputs": [
    {
     "data": {
      "text/html": [
       "<div>\n",
       "<style scoped>\n",
       "    .dataframe tbody tr th:only-of-type {\n",
       "        vertical-align: middle;\n",
       "    }\n",
       "\n",
       "    .dataframe tbody tr th {\n",
       "        vertical-align: top;\n",
       "    }\n",
       "\n",
       "    .dataframe thead th {\n",
       "        text-align: right;\n",
       "    }\n",
       "</style>\n",
       "<table border=\"1\" class=\"dataframe\">\n",
       "  <thead>\n",
       "    <tr style=\"text-align: right;\">\n",
       "      <th></th>\n",
       "      <th>skill_level</th>\n",
       "      <th>date_2</th>\n",
       "      <th>skill_diversity</th>\n",
       "      <th>adj_rate</th>\n",
       "    </tr>\n",
       "  </thead>\n",
       "  <tbody>\n",
       "    <tr>\n",
       "      <th>0</th>\n",
       "      <td>high</td>\n",
       "      <td>302932</td>\n",
       "      <td>1.912548</td>\n",
       "      <td>30.1</td>\n",
       "    </tr>\n",
       "    <tr>\n",
       "      <th>1</th>\n",
       "      <td>low</td>\n",
       "      <td>124604</td>\n",
       "      <td>1.908952</td>\n",
       "      <td>20.5</td>\n",
       "    </tr>\n",
       "    <tr>\n",
       "      <th>2</th>\n",
       "      <td>medium</td>\n",
       "      <td>225879</td>\n",
       "      <td>1.703465</td>\n",
       "      <td>29.6</td>\n",
       "    </tr>\n",
       "  </tbody>\n",
       "</table>\n",
       "</div>"
      ],
      "text/plain": [
       "  skill_level  date_2  skill_diversity  adj_rate\n",
       "0        high  302932         1.912548      30.1\n",
       "1         low  124604         1.908952      20.5\n",
       "2      medium  225879         1.703465      29.6"
      ]
     },
     "execution_count": 39,
     "metadata": {},
     "output_type": "execute_result"
    }
   ],
   "source": [
    "num_skill = df.groupby(['skill_level'],as_index=False) \\\n",
    "       .agg({'date_2':'size',\"skill_diversity\":\"mean\",\"adj_rate\":\"median\"})\n",
    "num_skill.sort_values(by='skill_diversity',ascending=False)"
   ]
  },
  {
   "cell_type": "markdown",
   "metadata": {},
   "source": [
    "## 1.3 Skill diversity by job category"
   ]
  },
  {
   "cell_type": "code",
   "execution_count": 44,
   "metadata": {},
   "outputs": [
    {
     "data": {
      "text/html": [
       "<div>\n",
       "<style scoped>\n",
       "    .dataframe tbody tr th:only-of-type {\n",
       "        vertical-align: middle;\n",
       "    }\n",
       "\n",
       "    .dataframe tbody tr th {\n",
       "        vertical-align: top;\n",
       "    }\n",
       "\n",
       "    .dataframe thead th {\n",
       "        text-align: right;\n",
       "    }\n",
       "</style>\n",
       "<table border=\"1\" class=\"dataframe\">\n",
       "  <thead>\n",
       "    <tr style=\"text-align: right;\">\n",
       "      <th></th>\n",
       "      <th>category_1</th>\n",
       "      <th>date_2</th>\n",
       "      <th>num_projects</th>\n",
       "      <th>skill_diversity</th>\n",
       "      <th>adj_rate</th>\n",
       "    </tr>\n",
       "  </thead>\n",
       "  <tbody>\n",
       "    <tr>\n",
       "      <th>2</th>\n",
       "      <td>Customer Service</td>\n",
       "      <td>13095</td>\n",
       "      <td>13095</td>\n",
       "      <td>2.484383</td>\n",
       "      <td>15.8</td>\n",
       "    </tr>\n",
       "    <tr>\n",
       "      <th>1</th>\n",
       "      <td>Admin Support</td>\n",
       "      <td>71147</td>\n",
       "      <td>71147</td>\n",
       "      <td>2.219110</td>\n",
       "      <td>16.2</td>\n",
       "    </tr>\n",
       "    <tr>\n",
       "      <th>8</th>\n",
       "      <td>Sales &amp; Marketing</td>\n",
       "      <td>124417</td>\n",
       "      <td>124417</td>\n",
       "      <td>1.927647</td>\n",
       "      <td>28.4</td>\n",
       "    </tr>\n",
       "    <tr>\n",
       "      <th>10</th>\n",
       "      <td>Web, Mobile &amp; Software Dev</td>\n",
       "      <td>237810</td>\n",
       "      <td>237810</td>\n",
       "      <td>1.920294</td>\n",
       "      <td>29.4</td>\n",
       "    </tr>\n",
       "    <tr>\n",
       "      <th>11</th>\n",
       "      <td>Writing</td>\n",
       "      <td>66344</td>\n",
       "      <td>66344</td>\n",
       "      <td>1.647609</td>\n",
       "      <td>31.1</td>\n",
       "    </tr>\n",
       "    <tr>\n",
       "      <th>6</th>\n",
       "      <td>IT &amp; Networking</td>\n",
       "      <td>27457</td>\n",
       "      <td>27457</td>\n",
       "      <td>1.620971</td>\n",
       "      <td>40.6</td>\n",
       "    </tr>\n",
       "    <tr>\n",
       "      <th>3</th>\n",
       "      <td>Data Science &amp; Analytics</td>\n",
       "      <td>23104</td>\n",
       "      <td>23104</td>\n",
       "      <td>1.568819</td>\n",
       "      <td>36.2</td>\n",
       "    </tr>\n",
       "    <tr>\n",
       "      <th>4</th>\n",
       "      <td>Design &amp; Creative</td>\n",
       "      <td>115260</td>\n",
       "      <td>115260</td>\n",
       "      <td>1.332795</td>\n",
       "      <td>28.9</td>\n",
       "    </tr>\n",
       "    <tr>\n",
       "      <th>0</th>\n",
       "      <td>Accounting &amp; Consulting</td>\n",
       "      <td>19407</td>\n",
       "      <td>19407</td>\n",
       "      <td>1.327768</td>\n",
       "      <td>33.5</td>\n",
       "    </tr>\n",
       "    <tr>\n",
       "      <th>5</th>\n",
       "      <td>Engineering &amp; Architecture</td>\n",
       "      <td>21302</td>\n",
       "      <td>21302</td>\n",
       "      <td>1.196085</td>\n",
       "      <td>32.5</td>\n",
       "    </tr>\n",
       "    <tr>\n",
       "      <th>7</th>\n",
       "      <td>Legal</td>\n",
       "      <td>5882</td>\n",
       "      <td>5882</td>\n",
       "      <td>1.172730</td>\n",
       "      <td>62.1</td>\n",
       "    </tr>\n",
       "    <tr>\n",
       "      <th>9</th>\n",
       "      <td>Translation</td>\n",
       "      <td>23545</td>\n",
       "      <td>23545</td>\n",
       "      <td>1.154810</td>\n",
       "      <td>25.8</td>\n",
       "    </tr>\n",
       "  </tbody>\n",
       "</table>\n",
       "</div>"
      ],
      "text/plain": [
       "                    category_1  date_2  num_projects  skill_diversity  \\\n",
       "2             Customer Service   13095         13095         2.484383   \n",
       "1                Admin Support   71147         71147         2.219110   \n",
       "8            Sales & Marketing  124417        124417         1.927647   \n",
       "10  Web, Mobile & Software Dev  237810        237810         1.920294   \n",
       "11                     Writing   66344         66344         1.647609   \n",
       "6              IT & Networking   27457         27457         1.620971   \n",
       "3     Data Science & Analytics   23104         23104         1.568819   \n",
       "4            Design & Creative  115260        115260         1.332795   \n",
       "0      Accounting & Consulting   19407         19407         1.327768   \n",
       "5   Engineering & Architecture   21302         21302         1.196085   \n",
       "7                        Legal    5882          5882         1.172730   \n",
       "9                  Translation   23545         23545         1.154810   \n",
       "\n",
       "    adj_rate  \n",
       "2       15.8  \n",
       "1       16.2  \n",
       "8       28.4  \n",
       "10      29.4  \n",
       "11      31.1  \n",
       "6       40.6  \n",
       "3       36.2  \n",
       "4       28.9  \n",
       "0       33.5  \n",
       "5       32.5  \n",
       "7       62.1  \n",
       "9       25.8  "
      ]
     },
     "execution_count": 44,
     "metadata": {},
     "output_type": "execute_result"
    }
   ],
   "source": [
    "num_skill = df.groupby(['category_1'],as_index=False) \\\n",
    "       .agg({'date_2':'size',\"num_projects\":\"size\",\"skill_diversity\":\"mean\",\"adj_rate\":\"median\"})\n",
    "num_skill.sort_values(by='skill_diversity',ascending=False)"
   ]
  },
  {
   "cell_type": "code",
   "execution_count": 45,
   "metadata": {},
   "outputs": [],
   "source": [
    "num_skill = num_skill.sort_values(by='num_projects',ascending=False)"
   ]
  },
  {
   "cell_type": "code",
   "execution_count": 46,
   "metadata": {},
   "outputs": [
    {
     "data": {
      "image/png": "[encoded data removed]",
      "text/plain": [
       "<Figure size 432x288 with 1 Axes>"
      ]
     },
     "metadata": {},
     "output_type": "display_data"
    }
   ],
   "source": [
    "sns.set_style(\"darkgrid\")\n",
    "chart = sns.barplot(x=\"category_1\", y=\"skill_diversity\", data=num_skill)\n",
    "chart.set_xticklabels(rotation=90, labels=num_skill.category_1)\n",
    "chart.set_xlabel('Job category')\n",
    "chart.set_ylabel('Skill Diversity')\n",
    "#plt.savefig('skill_diversity_category1.png',dpi=300,bbox_inches = \"tight\")"
   ]
  },
  {
   "cell_type": "markdown",
   "metadata": {},
   "source": [
    "# 2. Dynamic (over time)"
   ]
  },
  {
   "cell_type": "markdown",
   "metadata": {},
   "source": [
    "## 2.1 Overall skill diversity by quarter"
   ]
  },
  {
   "cell_type": "code",
   "execution_count": 53,
   "metadata": {},
   "outputs": [
    {
     "data": {
      "text/html": [
       "<div>\n",
       "<style scoped>\n",
       "    .dataframe tbody tr th:only-of-type {\n",
       "        vertical-align: middle;\n",
       "    }\n",
       "\n",
       "    .dataframe tbody tr th {\n",
       "        vertical-align: top;\n",
       "    }\n",
       "\n",
       "    .dataframe thead th {\n",
       "        text-align: right;\n",
       "    }\n",
       "</style>\n",
       "<table border=\"1\" class=\"dataframe\">\n",
       "  <thead>\n",
       "    <tr style=\"text-align: right;\">\n",
       "      <th></th>\n",
       "      <th>quarter_year</th>\n",
       "      <th>count</th>\n",
       "      <th>mean_skill_diversity</th>\n",
       "    </tr>\n",
       "  </thead>\n",
       "  <tbody>\n",
       "    <tr>\n",
       "      <th>0</th>\n",
       "      <td>2016Q1</td>\n",
       "      <td>4</td>\n",
       "      <td>2.250000</td>\n",
       "    </tr>\n",
       "    <tr>\n",
       "      <th>1</th>\n",
       "      <td>2016Q2</td>\n",
       "      <td>4</td>\n",
       "      <td>2.250000</td>\n",
       "    </tr>\n",
       "    <tr>\n",
       "      <th>2</th>\n",
       "      <td>2016Q3</td>\n",
       "      <td>13558</td>\n",
       "      <td>1.671338</td>\n",
       "    </tr>\n",
       "    <tr>\n",
       "      <th>3</th>\n",
       "      <td>2016Q4</td>\n",
       "      <td>29930</td>\n",
       "      <td>1.674073</td>\n",
       "    </tr>\n",
       "    <tr>\n",
       "      <th>4</th>\n",
       "      <td>2017Q1</td>\n",
       "      <td>35546</td>\n",
       "      <td>1.728549</td>\n",
       "    </tr>\n",
       "    <tr>\n",
       "      <th>5</th>\n",
       "      <td>2017Q2</td>\n",
       "      <td>64667</td>\n",
       "      <td>1.745048</td>\n",
       "    </tr>\n",
       "    <tr>\n",
       "      <th>6</th>\n",
       "      <td>2017Q3</td>\n",
       "      <td>89514</td>\n",
       "      <td>1.767243</td>\n",
       "    </tr>\n",
       "    <tr>\n",
       "      <th>7</th>\n",
       "      <td>2017Q4</td>\n",
       "      <td>73960</td>\n",
       "      <td>1.786236</td>\n",
       "    </tr>\n",
       "    <tr>\n",
       "      <th>8</th>\n",
       "      <td>2018Q1</td>\n",
       "      <td>46335</td>\n",
       "      <td>1.736700</td>\n",
       "    </tr>\n",
       "    <tr>\n",
       "      <th>9</th>\n",
       "      <td>2018Q2</td>\n",
       "      <td>41763</td>\n",
       "      <td>1.729641</td>\n",
       "    </tr>\n",
       "    <tr>\n",
       "      <th>10</th>\n",
       "      <td>2018Q3</td>\n",
       "      <td>30412</td>\n",
       "      <td>1.750000</td>\n",
       "    </tr>\n",
       "    <tr>\n",
       "      <th>11</th>\n",
       "      <td>2018Q4</td>\n",
       "      <td>45269</td>\n",
       "      <td>1.758599</td>\n",
       "    </tr>\n",
       "    <tr>\n",
       "      <th>12</th>\n",
       "      <td>2019Q1</td>\n",
       "      <td>75682</td>\n",
       "      <td>1.861777</td>\n",
       "    </tr>\n",
       "  </tbody>\n",
       "</table>\n",
       "</div>"
      ],
      "text/plain": [
       "   quarter_year  count  mean_skill_diversity\n",
       "0        2016Q1      4              2.250000\n",
       "1        2016Q2      4              2.250000\n",
       "2        2016Q3  13558              1.671338\n",
       "3        2016Q4  29930              1.674073\n",
       "4        2017Q1  35546              1.728549\n",
       "5        2017Q2  64667              1.745048\n",
       "6        2017Q3  89514              1.767243\n",
       "7        2017Q4  73960              1.786236\n",
       "8        2018Q1  46335              1.736700\n",
       "9        2018Q2  41763              1.729641\n",
       "10       2018Q3  30412              1.750000\n",
       "11       2018Q4  45269              1.758599\n",
       "12       2019Q1  75682              1.861777"
      ]
     },
     "execution_count": 53,
     "metadata": {},
     "output_type": "execute_result"
    }
   ],
   "source": [
    "quarter = df.groupby(['quarter_year'],as_index=False) \\\n",
    "       .agg({'date_2':'size',\"skill_diversity\":\"mean\"}) \\\n",
    "       .rename(columns={'date_2':'count', 'skill_diversity':'mean_skill_diversity'})"
   ]
  },
  {
   "cell_type": "code",
   "execution_count": 57,
   "metadata": {},
   "outputs": [
    {
     "data": {
      "image/png": "[encoded data removed]",
      "text/plain": [
       "<Figure size 432x288 with 1 Axes>"
      ]
     },
     "metadata": {},
     "output_type": "display_data"
    }
   ],
   "source": [
    "sns.set_style(\"dark\")\n",
    "ax = sns.lineplot(x='quarter_year', y='mean_skill_diversity',\n",
    "             data=quarter[quarter[\"count\"]>4])\n",
    "#plt.legend(bbox_to_anchor=(1.05, 1), loc=2, borderaxespad=0.) # put legend outside\n",
    "ax.set_xticklabels(rotation=90, labels=quarter[quarter[\"count\"]>4].quarter_year)\n",
    "plt.xlabel(\"Quarter-Year\")\n",
    "plt.ylabel(\"Mean Skill Diversity\")\n",
    "#plt.savefig('skill_diversity_quarterly_total.png',dpi=300,bbox_inches = \"tight\")"
   ]
  },
  {
   "cell_type": "markdown",
   "metadata": {},
   "source": [
    "## 2.2 Skill diversity by skill level over time"
   ]
  },
  {
   "cell_type": "code",
   "execution_count": 95,
   "metadata": {},
   "outputs": [],
   "source": [
    "quarter = df.groupby([\"skill_level\",'quarter_year'],as_index=False) \\\n",
    "       .agg({'date_2':'size',\"skill_diversity\":\"mean\"}) \\\n",
    "       .rename(columns={'date_2':'count', 'skill_diversity':'mean_skill_diversity'})"
   ]
  },
  {
   "cell_type": "code",
   "execution_count": 98,
   "metadata": {},
   "outputs": [
    {
     "data": {
      "text/html": [
       "<div>\n",
       "<style scoped>\n",
       "    .dataframe tbody tr th:only-of-type {\n",
       "        vertical-align: middle;\n",
       "    }\n",
       "\n",
       "    .dataframe tbody tr th {\n",
       "        vertical-align: top;\n",
       "    }\n",
       "\n",
       "    .dataframe thead th {\n",
       "        text-align: right;\n",
       "    }\n",
       "</style>\n",
       "<table border=\"1\" class=\"dataframe\">\n",
       "  <thead>\n",
       "    <tr style=\"text-align: right;\">\n",
       "      <th></th>\n",
       "      <th>skill_level</th>\n",
       "      <th>quarter_year</th>\n",
       "      <th>count</th>\n",
       "      <th>mean_skill_diversity</th>\n",
       "    </tr>\n",
       "  </thead>\n",
       "  <tbody>\n",
       "    <tr>\n",
       "      <th>0</th>\n",
       "      <td>high</td>\n",
       "      <td>2016Q1</td>\n",
       "      <td>1</td>\n",
       "      <td>1.000000</td>\n",
       "    </tr>\n",
       "    <tr>\n",
       "      <th>1</th>\n",
       "      <td>high</td>\n",
       "      <td>2016Q2</td>\n",
       "      <td>1</td>\n",
       "      <td>2.000000</td>\n",
       "    </tr>\n",
       "    <tr>\n",
       "      <th>2</th>\n",
       "      <td>high</td>\n",
       "      <td>2016Q3</td>\n",
       "      <td>5526</td>\n",
       "      <td>1.803474</td>\n",
       "    </tr>\n",
       "    <tr>\n",
       "      <th>3</th>\n",
       "      <td>high</td>\n",
       "      <td>2016Q4</td>\n",
       "      <td>12305</td>\n",
       "      <td>1.805933</td>\n",
       "    </tr>\n",
       "    <tr>\n",
       "      <th>4</th>\n",
       "      <td>high</td>\n",
       "      <td>2017Q1</td>\n",
       "      <td>14182</td>\n",
       "      <td>1.840220</td>\n",
       "    </tr>\n",
       "    <tr>\n",
       "      <th>5</th>\n",
       "      <td>high</td>\n",
       "      <td>2017Q2</td>\n",
       "      <td>25908</td>\n",
       "      <td>1.863131</td>\n",
       "    </tr>\n",
       "    <tr>\n",
       "      <th>6</th>\n",
       "      <td>high</td>\n",
       "      <td>2017Q3</td>\n",
       "      <td>36104</td>\n",
       "      <td>1.907517</td>\n",
       "    </tr>\n",
       "    <tr>\n",
       "      <th>7</th>\n",
       "      <td>high</td>\n",
       "      <td>2017Q4</td>\n",
       "      <td>30455</td>\n",
       "      <td>1.936398</td>\n",
       "    </tr>\n",
       "    <tr>\n",
       "      <th>8</th>\n",
       "      <td>high</td>\n",
       "      <td>2018Q1</td>\n",
       "      <td>19513</td>\n",
       "      <td>1.890893</td>\n",
       "    </tr>\n",
       "    <tr>\n",
       "      <th>9</th>\n",
       "      <td>high</td>\n",
       "      <td>2018Q2</td>\n",
       "      <td>17640</td>\n",
       "      <td>1.885714</td>\n",
       "    </tr>\n",
       "    <tr>\n",
       "      <th>10</th>\n",
       "      <td>high</td>\n",
       "      <td>2018Q3</td>\n",
       "      <td>12296</td>\n",
       "      <td>1.923552</td>\n",
       "    </tr>\n",
       "    <tr>\n",
       "      <th>11</th>\n",
       "      <td>high</td>\n",
       "      <td>2018Q4</td>\n",
       "      <td>19420</td>\n",
       "      <td>1.882853</td>\n",
       "    </tr>\n",
       "    <tr>\n",
       "      <th>12</th>\n",
       "      <td>high</td>\n",
       "      <td>2019Q1</td>\n",
       "      <td>31656</td>\n",
       "      <td>1.997315</td>\n",
       "    </tr>\n",
       "    <tr>\n",
       "      <th>13</th>\n",
       "      <td>high</td>\n",
       "      <td>2019Q2</td>\n",
       "      <td>33399</td>\n",
       "      <td>1.991048</td>\n",
       "    </tr>\n",
       "    <tr>\n",
       "      <th>14</th>\n",
       "      <td>high</td>\n",
       "      <td>2019Q3</td>\n",
       "      <td>37020</td>\n",
       "      <td>1.856132</td>\n",
       "    </tr>\n",
       "    <tr>\n",
       "      <th>15</th>\n",
       "      <td>high</td>\n",
       "      <td>2019Q4</td>\n",
       "      <td>7506</td>\n",
       "      <td>2.152012</td>\n",
       "    </tr>\n",
       "    <tr>\n",
       "      <th>16</th>\n",
       "      <td>low</td>\n",
       "      <td>2016Q1</td>\n",
       "      <td>2</td>\n",
       "      <td>2.500000</td>\n",
       "    </tr>\n",
       "    <tr>\n",
       "      <th>17</th>\n",
       "      <td>low</td>\n",
       "      <td>2016Q2</td>\n",
       "      <td>1</td>\n",
       "      <td>1.000000</td>\n",
       "    </tr>\n",
       "    <tr>\n",
       "      <th>18</th>\n",
       "      <td>low</td>\n",
       "      <td>2016Q3</td>\n",
       "      <td>2254</td>\n",
       "      <td>1.805235</td>\n",
       "    </tr>\n",
       "    <tr>\n",
       "      <th>19</th>\n",
       "      <td>low</td>\n",
       "      <td>2016Q4</td>\n",
       "      <td>4951</td>\n",
       "      <td>1.838416</td>\n",
       "    </tr>\n",
       "    <tr>\n",
       "      <th>20</th>\n",
       "      <td>low</td>\n",
       "      <td>2017Q1</td>\n",
       "      <td>6184</td>\n",
       "      <td>1.941947</td>\n",
       "    </tr>\n",
       "    <tr>\n",
       "      <th>21</th>\n",
       "      <td>low</td>\n",
       "      <td>2017Q2</td>\n",
       "      <td>10481</td>\n",
       "      <td>1.954489</td>\n",
       "    </tr>\n",
       "    <tr>\n",
       "      <th>22</th>\n",
       "      <td>low</td>\n",
       "      <td>2017Q3</td>\n",
       "      <td>15813</td>\n",
       "      <td>1.854613</td>\n",
       "    </tr>\n",
       "    <tr>\n",
       "      <th>23</th>\n",
       "      <td>low</td>\n",
       "      <td>2017Q4</td>\n",
       "      <td>12972</td>\n",
       "      <td>1.879664</td>\n",
       "    </tr>\n",
       "    <tr>\n",
       "      <th>24</th>\n",
       "      <td>low</td>\n",
       "      <td>2018Q1</td>\n",
       "      <td>7370</td>\n",
       "      <td>1.961194</td>\n",
       "    </tr>\n",
       "    <tr>\n",
       "      <th>25</th>\n",
       "      <td>low</td>\n",
       "      <td>2018Q2</td>\n",
       "      <td>6518</td>\n",
       "      <td>1.937864</td>\n",
       "    </tr>\n",
       "    <tr>\n",
       "      <th>26</th>\n",
       "      <td>low</td>\n",
       "      <td>2018Q3</td>\n",
       "      <td>5191</td>\n",
       "      <td>2.002312</td>\n",
       "    </tr>\n",
       "    <tr>\n",
       "      <th>27</th>\n",
       "      <td>low</td>\n",
       "      <td>2018Q4</td>\n",
       "      <td>7082</td>\n",
       "      <td>2.059446</td>\n",
       "    </tr>\n",
       "    <tr>\n",
       "      <th>28</th>\n",
       "      <td>low</td>\n",
       "      <td>2019Q1</td>\n",
       "      <td>11608</td>\n",
       "      <td>2.080117</td>\n",
       "    </tr>\n",
       "    <tr>\n",
       "      <th>29</th>\n",
       "      <td>low</td>\n",
       "      <td>2019Q2</td>\n",
       "      <td>14118</td>\n",
       "      <td>1.913656</td>\n",
       "    </tr>\n",
       "    <tr>\n",
       "      <th>30</th>\n",
       "      <td>low</td>\n",
       "      <td>2019Q3</td>\n",
       "      <td>16842</td>\n",
       "      <td>1.724083</td>\n",
       "    </tr>\n",
       "    <tr>\n",
       "      <th>31</th>\n",
       "      <td>low</td>\n",
       "      <td>2019Q4</td>\n",
       "      <td>3217</td>\n",
       "      <td>1.932857</td>\n",
       "    </tr>\n",
       "    <tr>\n",
       "      <th>32</th>\n",
       "      <td>medium</td>\n",
       "      <td>2016Q1</td>\n",
       "      <td>1</td>\n",
       "      <td>3.000000</td>\n",
       "    </tr>\n",
       "    <tr>\n",
       "      <th>33</th>\n",
       "      <td>medium</td>\n",
       "      <td>2016Q2</td>\n",
       "      <td>2</td>\n",
       "      <td>3.000000</td>\n",
       "    </tr>\n",
       "    <tr>\n",
       "      <th>34</th>\n",
       "      <td>medium</td>\n",
       "      <td>2016Q3</td>\n",
       "      <td>4267</td>\n",
       "      <td>1.611437</td>\n",
       "    </tr>\n",
       "    <tr>\n",
       "      <th>35</th>\n",
       "      <td>medium</td>\n",
       "      <td>2016Q4</td>\n",
       "      <td>9589</td>\n",
       "      <td>1.594223</td>\n",
       "    </tr>\n",
       "    <tr>\n",
       "      <th>36</th>\n",
       "      <td>medium</td>\n",
       "      <td>2017Q1</td>\n",
       "      <td>11193</td>\n",
       "      <td>1.659519</td>\n",
       "    </tr>\n",
       "    <tr>\n",
       "      <th>37</th>\n",
       "      <td>medium</td>\n",
       "      <td>2017Q2</td>\n",
       "      <td>20390</td>\n",
       "      <td>1.703825</td>\n",
       "    </tr>\n",
       "    <tr>\n",
       "      <th>38</th>\n",
       "      <td>medium</td>\n",
       "      <td>2017Q3</td>\n",
       "      <td>28449</td>\n",
       "      <td>1.727969</td>\n",
       "    </tr>\n",
       "    <tr>\n",
       "      <th>39</th>\n",
       "      <td>medium</td>\n",
       "      <td>2017Q4</td>\n",
       "      <td>23860</td>\n",
       "      <td>1.717561</td>\n",
       "    </tr>\n",
       "    <tr>\n",
       "      <th>40</th>\n",
       "      <td>medium</td>\n",
       "      <td>2018Q1</td>\n",
       "      <td>13740</td>\n",
       "      <td>1.641630</td>\n",
       "    </tr>\n",
       "    <tr>\n",
       "      <th>41</th>\n",
       "      <td>medium</td>\n",
       "      <td>2018Q2</td>\n",
       "      <td>12431</td>\n",
       "      <td>1.644759</td>\n",
       "    </tr>\n",
       "    <tr>\n",
       "      <th>42</th>\n",
       "      <td>medium</td>\n",
       "      <td>2018Q3</td>\n",
       "      <td>8509</td>\n",
       "      <td>1.635210</td>\n",
       "    </tr>\n",
       "    <tr>\n",
       "      <th>43</th>\n",
       "      <td>medium</td>\n",
       "      <td>2018Q4</td>\n",
       "      <td>11962</td>\n",
       "      <td>1.695787</td>\n",
       "    </tr>\n",
       "    <tr>\n",
       "      <th>44</th>\n",
       "      <td>medium</td>\n",
       "      <td>2019Q1</td>\n",
       "      <td>20454</td>\n",
       "      <td>1.876014</td>\n",
       "    </tr>\n",
       "    <tr>\n",
       "      <th>45</th>\n",
       "      <td>medium</td>\n",
       "      <td>2019Q2</td>\n",
       "      <td>25009</td>\n",
       "      <td>1.735055</td>\n",
       "    </tr>\n",
       "    <tr>\n",
       "      <th>46</th>\n",
       "      <td>medium</td>\n",
       "      <td>2019Q3</td>\n",
       "      <td>29786</td>\n",
       "      <td>1.619116</td>\n",
       "    </tr>\n",
       "    <tr>\n",
       "      <th>47</th>\n",
       "      <td>medium</td>\n",
       "      <td>2019Q4</td>\n",
       "      <td>6237</td>\n",
       "      <td>1.917108</td>\n",
       "    </tr>\n",
       "  </tbody>\n",
       "</table>\n",
       "</div>"
      ],
      "text/plain": [
       "   skill_level quarter_year  count  mean_skill_diversity\n",
       "0         high       2016Q1      1              1.000000\n",
       "1         high       2016Q2      1              2.000000\n",
       "2         high       2016Q3   5526              1.803474\n",
       "3         high       2016Q4  12305              1.805933\n",
       "4         high       2017Q1  14182              1.840220\n",
       "5         high       2017Q2  25908              1.863131\n",
       "6         high       2017Q3  36104              1.907517\n",
       "7         high       2017Q4  30455              1.936398\n",
       "8         high       2018Q1  19513              1.890893\n",
       "9         high       2018Q2  17640              1.885714\n",
       "10        high       2018Q3  12296              1.923552\n",
       "11        high       2018Q4  19420              1.882853\n",
       "12        high       2019Q1  31656              1.997315\n",
       "13        high       2019Q2  33399              1.991048\n",
       "14        high       2019Q3  37020              1.856132\n",
       "15        high       2019Q4   7506              2.152012\n",
       "16         low       2016Q1      2              2.500000\n",
       "17         low       2016Q2      1              1.000000\n",
       "18         low       2016Q3   2254              1.805235\n",
       "19         low       2016Q4   4951              1.838416\n",
       "20         low       2017Q1   6184              1.941947\n",
       "21         low       2017Q2  10481              1.954489\n",
       "22         low       2017Q3  15813              1.854613\n",
       "23         low       2017Q4  12972              1.879664\n",
       "24         low       2018Q1   7370              1.961194\n",
       "25         low       2018Q2   6518              1.937864\n",
       "26         low       2018Q3   5191              2.002312\n",
       "27         low       2018Q4   7082              2.059446\n",
       "28         low       2019Q1  11608              2.080117\n",
       "29         low       2019Q2  14118              1.913656\n",
       "30         low       2019Q3  16842              1.724083\n",
       "31         low       2019Q4   3217              1.932857\n",
       "32      medium       2016Q1      1              3.000000\n",
       "33      medium       2016Q2      2              3.000000\n",
       "34      medium       2016Q3   4267              1.611437\n",
       "35      medium       2016Q4   9589              1.594223\n",
       "36      medium       2017Q1  11193              1.659519\n",
       "37      medium       2017Q2  20390              1.703825\n",
       "38      medium       2017Q3  28449              1.727969\n",
       "39      medium       2017Q4  23860              1.717561\n",
       "40      medium       2018Q1  13740              1.641630\n",
       "41      medium       2018Q2  12431              1.644759\n",
       "42      medium       2018Q3   8509              1.635210\n",
       "43      medium       2018Q4  11962              1.695787\n",
       "44      medium       2019Q1  20454              1.876014\n",
       "45      medium       2019Q2  25009              1.735055\n",
       "46      medium       2019Q3  29786              1.619116\n",
       "47      medium       2019Q4   6237              1.917108"
      ]
     },
     "execution_count": 98,
     "metadata": {},
     "output_type": "execute_result"
    }
   ],
   "source": [
    "quarter.tail(50)"
   ]
  },
  {
   "cell_type": "code",
   "execution_count": 61,
   "metadata": {},
   "outputs": [
    {
     "data": {
      "image/png": "[encoded data removed]",
      "text/plain": [
       "<Figure size 432x288 with 1 Axes>"
      ]
     },
     "metadata": {},
     "output_type": "display_data"
    }
   ],
   "source": [
    "sns.set_style(\"dark\")\n",
    "ax = sns.lineplot(x='quarter_year', y='mean_skill_diversity', hue=\"skill_level\", hue_order = [\"low\",\"medium\",\"high\"],\n",
    "             data=quarter[quarter[\"count\"]>4])\n",
    "#plt.legend(bbox_to_anchor=(1.05, 1), loc=2, borderaxespad=0.) # put legend outside\n",
    "ax.set_xticklabels(rotation=90, labels=quarter[quarter[\"count\"]>4].quarter_year)\n",
    "plt.xlabel(\"Quarter-Year\")\n",
    "plt.ylabel(\"Mean Skill Diversity\")\n",
    "#plt.savefig('skill_diversity_quarterly_level.png',dpi=300,bbox_inches = \"tight\")"
   ]
  },
  {
   "cell_type": "markdown",
   "metadata": {},
   "source": [
    "## 2.3 Skill diversity by job category over time"
   ]
  },
  {
   "cell_type": "code",
   "execution_count": 67,
   "metadata": {},
   "outputs": [],
   "source": [
    "quarter = df.groupby([\"category_1\",'quarter_year'],as_index=False) \\\n",
    "       .agg({'date_2':'size',\"skill_diversity\":\"mean\",'num_projects':'size'}) \\\n",
    "       .rename(columns={'date_2':'count', 'skill_diversity':'mean_skill_diversity'})"
   ]
  },
  {
   "cell_type": "code",
   "execution_count": 68,
   "metadata": {},
   "outputs": [],
   "source": [
    "quarter = quarter.sort_values(by='num_projects',ascending=False)"
   ]
  },
  {
   "cell_type": "code",
   "execution_count": 70,
   "metadata": {},
   "outputs": [
    {
     "data": {
      "image/png": "[encoded data removed]",
      "text/plain": [
       "<Figure size 432x288 with 1 Axes>"
      ]
     },
     "metadata": {},
     "output_type": "display_data"
    }
   ],
   "source": [
    "sns.set_style(\"dark\")\n",
    "ax = sns.lineplot(x='quarter_year', y='mean_skill_diversity', hue=\"category_1\",\n",
    "             data=quarter[quarter[\"count\"]>4])\n",
    "plt.legend(bbox_to_anchor=(1.05, 1), loc=2, borderaxespad=0.) # put legend outside\n",
    "ax.set_xticklabels(rotation=90, labels=quarter[quarter[\"count\"]>4].quarter_year)\n",
    "plt.xlabel(\"Quarter-Year\")\n",
    "plt.ylabel(\"Mean Skill Diversity\")\n",
    "#plt.savefig('skill_diversity_quarterly_category.png',dpi=300,bbox_inches = \"tight\")"
   ]
  },
  {
   "cell_type": "markdown",
   "metadata": {},
   "source": [
    "# 3. Static - Specialization"
   ]
  },
  {
   "cell_type": "markdown",
   "metadata": {},
   "source": [
    "## 3.1 Overview"
   ]
  },
  {
   "cell_type": "code",
   "execution_count": 77,
   "metadata": {},
   "outputs": [
    {
     "data": {
      "text/plain": [
       "3.3876343870614476"
      ]
     },
     "execution_count": 77,
     "metadata": {},
     "output_type": "execute_result"
    }
   ],
   "source": [
    "df.specialization.mean()"
   ]
  },
  {
   "cell_type": "code",
   "execution_count": 78,
   "metadata": {},
   "outputs": [
    {
     "data": {
      "text/html": [
       "<div>\n",
       "<style scoped>\n",
       "    .dataframe tbody tr th:only-of-type {\n",
       "        vertical-align: middle;\n",
       "    }\n",
       "\n",
       "    .dataframe tbody tr th {\n",
       "        vertical-align: top;\n",
       "    }\n",
       "\n",
       "    .dataframe thead th {\n",
       "        text-align: right;\n",
       "    }\n",
       "</style>\n",
       "<table border=\"1\" class=\"dataframe\">\n",
       "  <thead>\n",
       "    <tr style=\"text-align: right;\">\n",
       "      <th></th>\n",
       "      <th>year</th>\n",
       "      <th>date_2</th>\n",
       "      <th>specialization</th>\n",
       "      <th>adj_rate</th>\n",
       "    </tr>\n",
       "  </thead>\n",
       "  <tbody>\n",
       "    <tr>\n",
       "      <th>0</th>\n",
       "      <td>2016</td>\n",
       "      <td>43496</td>\n",
       "      <td>2.732136</td>\n",
       "      <td>29.0</td>\n",
       "    </tr>\n",
       "    <tr>\n",
       "      <th>1</th>\n",
       "      <td>2017</td>\n",
       "      <td>263687</td>\n",
       "      <td>3.079374</td>\n",
       "      <td>27.9</td>\n",
       "    </tr>\n",
       "    <tr>\n",
       "      <th>2</th>\n",
       "      <td>2018</td>\n",
       "      <td>163779</td>\n",
       "      <td>3.064813</td>\n",
       "      <td>28.2</td>\n",
       "    </tr>\n",
       "    <tr>\n",
       "      <th>3</th>\n",
       "      <td>2019</td>\n",
       "      <td>277808</td>\n",
       "      <td>3.973172</td>\n",
       "      <td>28.7</td>\n",
       "    </tr>\n",
       "  </tbody>\n",
       "</table>\n",
       "</div>"
      ],
      "text/plain": [
       "   year  date_2  specialization  adj_rate\n",
       "0  2016   43496        2.732136      29.0\n",
       "1  2017  263687        3.079374      27.9\n",
       "2  2018  163779        3.064813      28.2\n",
       "3  2019  277808        3.973172      28.7"
      ]
     },
     "execution_count": 78,
     "metadata": {},
     "output_type": "execute_result"
    }
   ],
   "source": [
    "# skill diversity by year\n",
    "year = df.groupby(['year'],as_index=False) \\\n",
    "       .agg({'date_2':'size',\"specialization\":\"mean\",\"adj_rate\":\"median\"})\n",
    "year"
   ]
  },
  {
   "cell_type": "markdown",
   "metadata": {},
   "source": [
    "## 3.2 Specialization by skill level"
   ]
  },
  {
   "cell_type": "code",
   "execution_count": 79,
   "metadata": {},
   "outputs": [
    {
     "data": {
      "text/html": [
       "<div>\n",
       "<style scoped>\n",
       "    .dataframe tbody tr th:only-of-type {\n",
       "        vertical-align: middle;\n",
       "    }\n",
       "\n",
       "    .dataframe tbody tr th {\n",
       "        vertical-align: top;\n",
       "    }\n",
       "\n",
       "    .dataframe thead th {\n",
       "        text-align: right;\n",
       "    }\n",
       "</style>\n",
       "<table border=\"1\" class=\"dataframe\">\n",
       "  <thead>\n",
       "    <tr style=\"text-align: right;\">\n",
       "      <th></th>\n",
       "      <th>skill_level</th>\n",
       "      <th>date_2</th>\n",
       "      <th>specialization</th>\n",
       "      <th>adj_rate</th>\n",
       "    </tr>\n",
       "  </thead>\n",
       "  <tbody>\n",
       "    <tr>\n",
       "      <th>2</th>\n",
       "      <td>medium</td>\n",
       "      <td>225879</td>\n",
       "      <td>3.482838</td>\n",
       "      <td>29.6</td>\n",
       "    </tr>\n",
       "    <tr>\n",
       "      <th>1</th>\n",
       "      <td>low</td>\n",
       "      <td>124604</td>\n",
       "      <td>3.368527</td>\n",
       "      <td>20.5</td>\n",
       "    </tr>\n",
       "    <tr>\n",
       "      <th>0</th>\n",
       "      <td>high</td>\n",
       "      <td>302932</td>\n",
       "      <td>3.295063</td>\n",
       "      <td>30.1</td>\n",
       "    </tr>\n",
       "  </tbody>\n",
       "</table>\n",
       "</div>"
      ],
      "text/plain": [
       "  skill_level  date_2  specialization  adj_rate\n",
       "2      medium  225879        3.482838      29.6\n",
       "1         low  124604        3.368527      20.5\n",
       "0        high  302932        3.295063      30.1"
      ]
     },
     "execution_count": 79,
     "metadata": {},
     "output_type": "execute_result"
    }
   ],
   "source": [
    "num_skill = df.groupby(['skill_level'],as_index=False) \\\n",
    "       .agg({'date_2':'size',\"specialization\":\"mean\",\"adj_rate\":\"median\"})\n",
    "num_skill.sort_values(by='specialization',ascending=False)"
   ]
  },
  {
   "cell_type": "markdown",
   "metadata": {},
   "source": [
    "## 3.3 Specialization by job category"
   ]
  },
  {
   "cell_type": "code",
   "execution_count": 80,
   "metadata": {},
   "outputs": [
    {
     "data": {
      "text/html": [
       "<div>\n",
       "<style scoped>\n",
       "    .dataframe tbody tr th:only-of-type {\n",
       "        vertical-align: middle;\n",
       "    }\n",
       "\n",
       "    .dataframe tbody tr th {\n",
       "        vertical-align: top;\n",
       "    }\n",
       "\n",
       "    .dataframe thead th {\n",
       "        text-align: right;\n",
       "    }\n",
       "</style>\n",
       "<table border=\"1\" class=\"dataframe\">\n",
       "  <thead>\n",
       "    <tr style=\"text-align: right;\">\n",
       "      <th></th>\n",
       "      <th>category_1</th>\n",
       "      <th>date_2</th>\n",
       "      <th>num_projects</th>\n",
       "      <th>specialization</th>\n",
       "      <th>adj_rate</th>\n",
       "    </tr>\n",
       "  </thead>\n",
       "  <tbody>\n",
       "    <tr>\n",
       "      <th>0</th>\n",
       "      <td>Accounting &amp; Consulting</td>\n",
       "      <td>19407</td>\n",
       "      <td>19407</td>\n",
       "      <td>4.348328</td>\n",
       "      <td>33.5</td>\n",
       "    </tr>\n",
       "    <tr>\n",
       "      <th>8</th>\n",
       "      <td>Sales &amp; Marketing</td>\n",
       "      <td>124417</td>\n",
       "      <td>124417</td>\n",
       "      <td>3.787802</td>\n",
       "      <td>28.4</td>\n",
       "    </tr>\n",
       "    <tr>\n",
       "      <th>4</th>\n",
       "      <td>Design &amp; Creative</td>\n",
       "      <td>115260</td>\n",
       "      <td>115260</td>\n",
       "      <td>3.666233</td>\n",
       "      <td>28.9</td>\n",
       "    </tr>\n",
       "    <tr>\n",
       "      <th>11</th>\n",
       "      <td>Writing</td>\n",
       "      <td>66344</td>\n",
       "      <td>66344</td>\n",
       "      <td>3.540607</td>\n",
       "      <td>31.1</td>\n",
       "    </tr>\n",
       "    <tr>\n",
       "      <th>5</th>\n",
       "      <td>Engineering &amp; Architecture</td>\n",
       "      <td>21302</td>\n",
       "      <td>21302</td>\n",
       "      <td>3.475214</td>\n",
       "      <td>32.5</td>\n",
       "    </tr>\n",
       "    <tr>\n",
       "      <th>2</th>\n",
       "      <td>Customer Service</td>\n",
       "      <td>13095</td>\n",
       "      <td>13095</td>\n",
       "      <td>3.350974</td>\n",
       "      <td>15.8</td>\n",
       "    </tr>\n",
       "    <tr>\n",
       "      <th>10</th>\n",
       "      <td>Web, Mobile &amp; Software Dev</td>\n",
       "      <td>237810</td>\n",
       "      <td>237810</td>\n",
       "      <td>3.328868</td>\n",
       "      <td>29.4</td>\n",
       "    </tr>\n",
       "    <tr>\n",
       "      <th>1</th>\n",
       "      <td>Admin Support</td>\n",
       "      <td>71147</td>\n",
       "      <td>71147</td>\n",
       "      <td>3.125810</td>\n",
       "      <td>16.2</td>\n",
       "    </tr>\n",
       "    <tr>\n",
       "      <th>9</th>\n",
       "      <td>Translation</td>\n",
       "      <td>23545</td>\n",
       "      <td>23545</td>\n",
       "      <td>3.035591</td>\n",
       "      <td>25.8</td>\n",
       "    </tr>\n",
       "    <tr>\n",
       "      <th>7</th>\n",
       "      <td>Legal</td>\n",
       "      <td>5882</td>\n",
       "      <td>5882</td>\n",
       "      <td>2.842401</td>\n",
       "      <td>62.1</td>\n",
       "    </tr>\n",
       "    <tr>\n",
       "      <th>3</th>\n",
       "      <td>Data Science &amp; Analytics</td>\n",
       "      <td>23104</td>\n",
       "      <td>23104</td>\n",
       "      <td>2.432263</td>\n",
       "      <td>36.2</td>\n",
       "    </tr>\n",
       "    <tr>\n",
       "      <th>6</th>\n",
       "      <td>IT &amp; Networking</td>\n",
       "      <td>27457</td>\n",
       "      <td>27457</td>\n",
       "      <td>1.715737</td>\n",
       "      <td>40.6</td>\n",
       "    </tr>\n",
       "  </tbody>\n",
       "</table>\n",
       "</div>"
      ],
      "text/plain": [
       "                    category_1  date_2  num_projects  specialization  adj_rate\n",
       "0      Accounting & Consulting   19407         19407        4.348328      33.5\n",
       "8            Sales & Marketing  124417        124417        3.787802      28.4\n",
       "4            Design & Creative  115260        115260        3.666233      28.9\n",
       "11                     Writing   66344         66344        3.540607      31.1\n",
       "5   Engineering & Architecture   21302         21302        3.475214      32.5\n",
       "2             Customer Service   13095         13095        3.350974      15.8\n",
       "10  Web, Mobile & Software Dev  237810        237810        3.328868      29.4\n",
       "1                Admin Support   71147         71147        3.125810      16.2\n",
       "9                  Translation   23545         23545        3.035591      25.8\n",
       "7                        Legal    5882          5882        2.842401      62.1\n",
       "3     Data Science & Analytics   23104         23104        2.432263      36.2\n",
       "6              IT & Networking   27457         27457        1.715737      40.6"
      ]
     },
     "execution_count": 80,
     "metadata": {},
     "output_type": "execute_result"
    }
   ],
   "source": [
    "num_skill = df.groupby(['category_1'],as_index=False) \\\n",
    "       .agg({'date_2':'size',\"num_projects\":\"size\",\"specialization\":\"mean\",\"adj_rate\":\"median\"})\n",
    "num_skill.sort_values(by='specialization',ascending=False)"
   ]
  },
  {
   "cell_type": "code",
   "execution_count": 81,
   "metadata": {},
   "outputs": [],
   "source": [
    "num_skill = num_skill.sort_values(by='num_projects',ascending=False)"
   ]
  },
  {
   "cell_type": "code",
   "execution_count": 82,
   "metadata": {},
   "outputs": [
    {
     "data": {
      "text/plain": [
       "Text(0, 0.5, 'Specialization')"
      ]
     },
     "execution_count": 82,
     "metadata": {},
     "output_type": "execute_result"
    },
    {
     "data": {
      "image/png": "[encoded data removed]",
      "text/plain": [
       "<Figure size 432x288 with 1 Axes>"
      ]
     },
     "metadata": {},
     "output_type": "display_data"
    }
   ],
   "source": [
    "sns.set_style(\"darkgrid\")\n",
    "chart = sns.barplot(x=\"category_1\", y=\"specialization\", data=num_skill)\n",
    "chart.set_xticklabels(rotation=90, labels=num_skill.category_1)\n",
    "chart.set_xlabel('Job category')\n",
    "chart.set_ylabel('Specialization')\n",
    "#plt.savefig('skill_diversity_category1.png',dpi=300,bbox_inches = \"tight\")"
   ]
  },
  {
   "cell_type": "markdown",
   "metadata": {},
   "source": [
    "# 4. Dynamic (over time)"
   ]
  },
  {
   "cell_type": "markdown",
   "metadata": {},
   "source": [
    "## 4.1 Overall specialization by quarter"
   ]
  },
  {
   "cell_type": "code",
   "execution_count": 83,
   "metadata": {},
   "outputs": [],
   "source": [
    "quarter = df.groupby(['quarter_year'],as_index=False) \\\n",
    "       .agg({'date_2':'size',\"specialization\":\"mean\"}) \\\n",
    "       .rename(columns={'date_2':'count', 'specialization':'mean_specialization'})"
   ]
  },
  {
   "cell_type": "code",
   "execution_count": 84,
   "metadata": {},
   "outputs": [
    {
     "data": {
      "text/plain": [
       "Text(0, 0.5, 'Mean Specialization')"
      ]
     },
     "execution_count": 84,
     "metadata": {},
     "output_type": "execute_result"
    },
    {
     "data": {
      "image/png": "[encoded data removed]",
      "text/plain": [
       "<Figure size 432x288 with 1 Axes>"
      ]
     },
     "metadata": {},
     "output_type": "display_data"
    }
   ],
   "source": [
    "sns.set_style(\"dark\")\n",
    "ax = sns.lineplot(x='quarter_year', y='mean_specialization',\n",
    "             data=quarter[quarter[\"count\"]>4])\n",
    "#plt.legend(bbox_to_anchor=(1.05, 1), loc=2, borderaxespad=0.) # put legend outside\n",
    "ax.set_xticklabels(rotation=90, labels=quarter[quarter[\"count\"]>4].quarter_year)\n",
    "plt.xlabel(\"Quarter-Year\")\n",
    "plt.ylabel(\"Mean Specialization\")\n",
    "#plt.savefig('skill_diversity_quarterly_total.png',dpi=300,bbox_inches = \"tight\")"
   ]
  },
  {
   "cell_type": "markdown",
   "metadata": {},
   "source": [
    "## 4.2 Specialization by skill level over time"
   ]
  },
  {
   "cell_type": "code",
   "execution_count": 87,
   "metadata": {},
   "outputs": [],
   "source": [
    "quarter = df.groupby([\"skill_level\",'quarter_year'],as_index=False) \\\n",
    "       .agg({'date_2':'size',\"specialization\":\"mean\"}) \\\n",
    "       .rename(columns={'date_2':'count', 'specialization':'mean_specialization'})"
   ]
  },
  {
   "cell_type": "code",
   "execution_count": 88,
   "metadata": {},
   "outputs": [
    {
     "data": {
      "text/plain": [
       "Text(0, 0.5, 'Mean Specialization')"
      ]
     },
     "execution_count": 88,
     "metadata": {},
     "output_type": "execute_result"
    },
    {
     "data": {
      "image/png": "[encoded data removed]",
      "text/plain": [
       "<Figure size 432x288 with 1 Axes>"
      ]
     },
     "metadata": {},
     "output_type": "display_data"
    }
   ],
   "source": [
    "sns.set_style(\"dark\")\n",
    "ax = sns.lineplot(x='quarter_year', y='mean_specialization', hue=\"skill_level\", hue_order = [\"low\",\"medium\",\"high\"],\n",
    "             data=quarter[quarter[\"count\"]>4])\n",
    "#plt.legend(bbox_to_anchor=(1.05, 1), loc=2, borderaxespad=0.) # put legend outside\n",
    "ax.set_xticklabels(rotation=90, labels=quarter[quarter[\"count\"]>4].quarter_year)\n",
    "plt.xlabel(\"Quarter-Year\")\n",
    "plt.ylabel(\"Mean Specialization\")\n",
    "#plt.savefig('skill_diversity_quarterly_level.png',dpi=300,bbox_inches = \"tight\")"
   ]
  },
  {
   "cell_type": "markdown",
   "metadata": {},
   "source": [
    "## 4.3 Specialization by job category over time"
   ]
  },
  {
   "cell_type": "code",
   "execution_count": 89,
   "metadata": {},
   "outputs": [],
   "source": [
    "quarter = df.groupby([\"category_1\",'quarter_year'],as_index=False) \\\n",
    "       .agg({'date_2':'size',\"specialization\":\"mean\",'num_projects':'size'}) \\\n",
    "       .rename(columns={'date_2':'count', 'specialization':'mean_specialization'})"
   ]
  },
  {
   "cell_type": "code",
   "execution_count": 90,
   "metadata": {},
   "outputs": [],
   "source": [
    "quarter = quarter.sort_values(by='num_projects',ascending=False)"
   ]
  },
  {
   "cell_type": "code",
   "execution_count": 91,
   "metadata": {},
   "outputs": [
    {
     "data": {
      "text/plain": [
       "Text(0, 0.5, 'Mean Specialization')"
      ]
     },
     "execution_count": 91,
     "metadata": {},
     "output_type": "execute_result"
    },
    {
     "data": {
      "image/png": "[encoded data removed]",
      "text/plain": [
       "<Figure size 432x288 with 1 Axes>"
      ]
     },
     "metadata": {},
     "output_type": "display_data"
    }
   ],
   "source": [
    "sns.set_style(\"dark\")\n",
    "ax = sns.lineplot(x='quarter_year', y='mean_specialization', hue=\"category_1\",\n",
    "             data=quarter[quarter[\"count\"]>4])\n",
    "plt.legend(bbox_to_anchor=(1.05, 1), loc=2, borderaxespad=0.) # put legend outside\n",
    "ax.set_xticklabels(rotation=90, labels=quarter[quarter[\"count\"]>4].quarter_year)\n",
    "plt.xlabel(\"Quarter-Year\")\n",
    "plt.ylabel(\"Mean Specialization\")\n",
    "#plt.savefig('skill_diversity_quarterly_category.png',dpi=300,bbox_inches = \"tight\")"
   ]
  },
  {
   "cell_type": "code",
   "execution_count": null,
   "metadata": {},
   "outputs": [],
   "source": []
  }
 ],
 "metadata": {
  "kernelspec": {
   "display_name": "Python 3",
   "language": "python",
   "name": "python3"
  },
  "language_info": {
   "codemirror_mode": {
    "name": "ipython",
    "version": 3
   },
   "file_extension": ".py",
   "mimetype": "text/x-python",
   "name": "python",
   "nbconvert_exporter": "python",
   "pygments_lexer": "ipython3",
   "version": "3.7.6"
  }
 },
 "nbformat": 4,
 "nbformat_minor": 4
}
