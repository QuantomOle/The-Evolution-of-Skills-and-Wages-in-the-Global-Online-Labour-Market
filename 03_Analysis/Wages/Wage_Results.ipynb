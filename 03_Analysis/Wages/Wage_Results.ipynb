{
 "cells": [
  {
   "cell_type": "markdown",
   "metadata": {},
   "source": [
    "# Results - Evolution of Wages\n",
    "\n",
    "How high are wages? Do they change over time (inflation adjusted)?"
   ]
  },
  {
   "cell_type": "code",
   "execution_count": 1,
   "metadata": {},
   "outputs": [],
   "source": [
    "import numpy as np\n",
    "import ast\n",
    "import re\n",
    "import pandas as pd\n",
    "import matplotlib.pyplot as plt\n",
    "import seaborn as sns\n",
    "import datetime\n",
    "import plotly.graph_objects as go\n",
    "%matplotlib inline"
   ]
  },
  {
   "cell_type": "markdown",
   "metadata": {},
   "source": [
    "## Load data"
   ]
  },
  {
   "cell_type": "code",
   "execution_count": 3,
   "metadata": {},
   "outputs": [],
   "source": [
    "df = pd.read_json(\"full_data.json\")"
   ]
  },
  {
   "cell_type": "code",
   "execution_count": 6,
   "metadata": {},
   "outputs": [
    {
     "data": {
      "text/html": [
       "<div>\n",
       "<style scoped>\n",
       "    .dataframe tbody tr th:only-of-type {\n",
       "        vertical-align: middle;\n",
       "    }\n",
       "\n",
       "    .dataframe tbody tr th {\n",
       "        vertical-align: top;\n",
       "    }\n",
       "\n",
       "    .dataframe thead th {\n",
       "        text-align: right;\n",
       "    }\n",
       "</style>\n",
       "<table border=\"1\" class=\"dataframe\">\n",
       "  <thead>\n",
       "    <tr style=\"text-align: right;\">\n",
       "      <th></th>\n",
       "      <th>skills</th>\n",
       "      <th>rate</th>\n",
       "      <th>category_1</th>\n",
       "      <th>category_2</th>\n",
       "      <th>date_2</th>\n",
       "      <th>SkillScore</th>\n",
       "      <th>skill_level</th>\n",
       "      <th>adj_rate</th>\n",
       "    </tr>\n",
       "  </thead>\n",
       "  <tbody>\n",
       "    <tr>\n",
       "      <th>0</th>\n",
       "      <td>[java, javafx]</td>\n",
       "      <td>26.5</td>\n",
       "      <td>Web, Mobile &amp; Software Dev</td>\n",
       "      <td>Web Development</td>\n",
       "      <td>2019-09-06</td>\n",
       "      <td>65.642857</td>\n",
       "      <td>high</td>\n",
       "      <td>25.3</td>\n",
       "    </tr>\n",
       "    <tr>\n",
       "      <th>1</th>\n",
       "      <td>ruby</td>\n",
       "      <td>127.5</td>\n",
       "      <td>Web, Mobile &amp; Software Dev</td>\n",
       "      <td>Web Development</td>\n",
       "      <td>2019-09-05</td>\n",
       "      <td>65.642857</td>\n",
       "      <td>high</td>\n",
       "      <td>121.9</td>\n",
       "    </tr>\n",
       "    <tr>\n",
       "      <th>2</th>\n",
       "      <td>[amazon-web-services, article-writing, blog-wr...</td>\n",
       "      <td>15.0</td>\n",
       "      <td>Writing</td>\n",
       "      <td>Article &amp; Blog Writing</td>\n",
       "      <td>2019-09-05</td>\n",
       "      <td>70.485714</td>\n",
       "      <td>high</td>\n",
       "      <td>14.3</td>\n",
       "    </tr>\n",
       "    <tr>\n",
       "      <th>3</th>\n",
       "      <td>html</td>\n",
       "      <td>27.0</td>\n",
       "      <td>Web, Mobile &amp; Software Dev</td>\n",
       "      <td>Web Development</td>\n",
       "      <td>2019-09-05</td>\n",
       "      <td>65.642857</td>\n",
       "      <td>high</td>\n",
       "      <td>25.8</td>\n",
       "    </tr>\n",
       "    <tr>\n",
       "      <th>4</th>\n",
       "      <td>[administrative-support, communication, custom...</td>\n",
       "      <td>16.5</td>\n",
       "      <td>Admin Support</td>\n",
       "      <td>Personal / Virtual Assistant</td>\n",
       "      <td>2019-09-05</td>\n",
       "      <td>47.785714</td>\n",
       "      <td>low</td>\n",
       "      <td>15.8</td>\n",
       "    </tr>\n",
       "  </tbody>\n",
       "</table>\n",
       "</div>"
      ],
      "text/plain": [
       "                                              skills   rate  \\\n",
       "0                                     [java, javafx]   26.5   \n",
       "1                                               ruby  127.5   \n",
       "2  [amazon-web-services, article-writing, blog-wr...   15.0   \n",
       "3                                               html   27.0   \n",
       "4  [administrative-support, communication, custom...   16.5   \n",
       "\n",
       "                   category_1                    category_2      date_2  \\\n",
       "0  Web, Mobile & Software Dev               Web Development  2019-09-06   \n",
       "1  Web, Mobile & Software Dev               Web Development  2019-09-05   \n",
       "2                     Writing        Article & Blog Writing  2019-09-05   \n",
       "3  Web, Mobile & Software Dev               Web Development  2019-09-05   \n",
       "4               Admin Support  Personal / Virtual Assistant  2019-09-05   \n",
       "\n",
       "   SkillScore skill_level  adj_rate  \n",
       "0   65.642857        high      25.3  \n",
       "1   65.642857        high     121.9  \n",
       "2   70.485714        high      14.3  \n",
       "3   65.642857        high      25.8  \n",
       "4   47.785714         low      15.8  "
      ]
     },
     "execution_count": 6,
     "metadata": {},
     "output_type": "execute_result"
    }
   ],
   "source": [
    "df.head()"
   ]
  },
  {
   "cell_type": "markdown",
   "metadata": {},
   "source": [
    "## Figure: Median wages by job category"
   ]
  },
  {
   "cell_type": "code",
   "execution_count": 10,
   "metadata": {},
   "outputs": [],
   "source": [
    "# distribution by category\n",
    "\n",
    "category = df.groupby(['category_1']) \\\n",
    "       .agg({'date_2':'size',\"adj_rate\":\"median\"}) \\\n",
    "       .rename(columns={'date_2':'count', 'adj_rate':'median_wage'})"
   ]
  },
  {
   "cell_type": "code",
   "execution_count": 11,
   "metadata": {},
   "outputs": [
    {
     "data": {
      "text/html": [
       "<div>\n",
       "<style scoped>\n",
       "    .dataframe tbody tr th:only-of-type {\n",
       "        vertical-align: middle;\n",
       "    }\n",
       "\n",
       "    .dataframe tbody tr th {\n",
       "        vertical-align: top;\n",
       "    }\n",
       "\n",
       "    .dataframe thead th {\n",
       "        text-align: right;\n",
       "    }\n",
       "</style>\n",
       "<table border=\"1\" class=\"dataframe\">\n",
       "  <thead>\n",
       "    <tr style=\"text-align: right;\">\n",
       "      <th></th>\n",
       "      <th>count</th>\n",
       "      <th>median_wage</th>\n",
       "    </tr>\n",
       "    <tr>\n",
       "      <th>category_1</th>\n",
       "      <th></th>\n",
       "      <th></th>\n",
       "    </tr>\n",
       "  </thead>\n",
       "  <tbody>\n",
       "    <tr>\n",
       "      <th>Web, Mobile &amp; Software Dev</th>\n",
       "      <td>237810</td>\n",
       "      <td>29.4</td>\n",
       "    </tr>\n",
       "    <tr>\n",
       "      <th>Sales &amp; Marketing</th>\n",
       "      <td>124417</td>\n",
       "      <td>28.4</td>\n",
       "    </tr>\n",
       "    <tr>\n",
       "      <th>Design &amp; Creative</th>\n",
       "      <td>115262</td>\n",
       "      <td>28.9</td>\n",
       "    </tr>\n",
       "    <tr>\n",
       "      <th>Admin Support</th>\n",
       "      <td>71147</td>\n",
       "      <td>16.2</td>\n",
       "    </tr>\n",
       "    <tr>\n",
       "      <th>Writing</th>\n",
       "      <td>66344</td>\n",
       "      <td>31.1</td>\n",
       "    </tr>\n",
       "    <tr>\n",
       "      <th>IT &amp; Networking</th>\n",
       "      <td>27458</td>\n",
       "      <td>40.6</td>\n",
       "    </tr>\n",
       "    <tr>\n",
       "      <th>Translation</th>\n",
       "      <td>23545</td>\n",
       "      <td>25.8</td>\n",
       "    </tr>\n",
       "    <tr>\n",
       "      <th>Data Science &amp; Analytics</th>\n",
       "      <td>23111</td>\n",
       "      <td>36.2</td>\n",
       "    </tr>\n",
       "    <tr>\n",
       "      <th>Engineering &amp; Architecture</th>\n",
       "      <td>21304</td>\n",
       "      <td>32.5</td>\n",
       "    </tr>\n",
       "    <tr>\n",
       "      <th>Accounting &amp; Consulting</th>\n",
       "      <td>19407</td>\n",
       "      <td>33.5</td>\n",
       "    </tr>\n",
       "    <tr>\n",
       "      <th>Customer Service</th>\n",
       "      <td>13095</td>\n",
       "      <td>15.8</td>\n",
       "    </tr>\n",
       "    <tr>\n",
       "      <th>Legal</th>\n",
       "      <td>5883</td>\n",
       "      <td>62.1</td>\n",
       "    </tr>\n",
       "  </tbody>\n",
       "</table>\n",
       "</div>"
      ],
      "text/plain": [
       "                             count  median_wage\n",
       "category_1                                     \n",
       "Web, Mobile & Software Dev  237810         29.4\n",
       "Sales & Marketing           124417         28.4\n",
       "Design & Creative           115262         28.9\n",
       "Admin Support                71147         16.2\n",
       "Writing                      66344         31.1\n",
       "IT & Networking              27458         40.6\n",
       "Translation                  23545         25.8\n",
       "Data Science & Analytics     23111         36.2\n",
       "Engineering & Architecture   21304         32.5\n",
       "Accounting & Consulting      19407         33.5\n",
       "Customer Service             13095         15.8\n",
       "Legal                         5883         62.1"
      ]
     },
     "execution_count": 11,
     "metadata": {},
     "output_type": "execute_result"
    }
   ],
   "source": [
    "category = category.sort_values(by='count',ascending=False)\n",
    "category"
   ]
  },
  {
   "cell_type": "code",
   "execution_count": 12,
   "metadata": {},
   "outputs": [],
   "source": [
    "sns.set_style(\"darkgrid\")"
   ]
  },
  {
   "cell_type": "code",
   "execution_count": 13,
   "metadata": {},
   "outputs": [
    {
     "data": {
      "text/plain": [
       "Text(0.5, 0, 'Category_Major')"
      ]
     },
     "execution_count": 13,
     "metadata": {},
     "output_type": "execute_result"
    },
    {
     "data": {
      "image/png": "[encoded data removed]",
      "text/plain": [
       "<Figure size 432x288 with 1 Axes>"
      ]
     },
     "metadata": {},
     "output_type": "display_data"
    }
   ],
   "source": [
    "chart = sns.barplot(x=category.index, y=\"count\", data=category)\n",
    "chart.set_xticklabels(rotation=90, labels=category.index)\n",
    "chart.set_xlabel('Category_Major')\n",
    "#plt.savefig('count_category1.png',dpi=300,bbox_inches = \"tight\")"
   ]
  },
  {
   "cell_type": "markdown",
   "metadata": {},
   "source": [
    "### a) by skill level"
   ]
  },
  {
   "cell_type": "code",
   "execution_count": 133,
   "metadata": {},
   "outputs": [],
   "source": [
    "# distribution by category\n",
    "\n",
    "category = df.groupby(['skill_level']) \\\n",
    "       .agg({'date_2':'size',\"adj_rate\":\"median\"}) \\\n",
    "       .rename(columns={'date_2':'count', 'adj_rate':'median_wage'})"
   ]
  },
  {
   "cell_type": "code",
   "execution_count": 134,
   "metadata": {},
   "outputs": [],
   "source": [
    "category = category.reindex(index = ['low','medium','high'])"
   ]
  },
  {
   "cell_type": "code",
   "execution_count": 136,
   "metadata": {},
   "outputs": [],
   "source": [
    "def change_width(ax, new_value) :\n",
    "    for patch in ax.patches :\n",
    "        current_width = patch.get_width()\n",
    "        diff = current_width - new_value\n",
    "\n",
    "        # we change the bar width\n",
    "        patch.set_width(new_value)\n",
    "\n",
    "        # we recenter the bar\n",
    "        patch.set_x(patch.get_x() + diff * .5)"
   ]
  },
  {
   "cell_type": "code",
   "execution_count": 138,
   "metadata": {},
   "outputs": [
    {
     "data": {
      "image/png": "[encoded data removed]",
      "text/plain": [
       "<Figure size 432x288 with 1 Axes>"
      ]
     },
     "metadata": {},
     "output_type": "display_data"
    }
   ],
   "source": [
    "chart = sns.barplot(x=category.index, y=\"median_wage\", data=category)\n",
    "#chart.set_xticklabels(rotation=90, labels=category.index )\n",
    "chart.set_xlabel('Skill Level')\n",
    "chart.set_ylabel('Median Wage in USD')\n",
    "change_width(chart, .55)\n",
    "#plt.savefig('wage_skill_level.png',dpi=300,bbox_inches = \"tight\")"
   ]
  },
  {
   "cell_type": "markdown",
   "metadata": {},
   "source": [
    "### b) by job category"
   ]
  },
  {
   "cell_type": "code",
   "execution_count": 130,
   "metadata": {},
   "outputs": [],
   "source": [
    "# distribution by category\n",
    "\n",
    "category = df.groupby(['category_1']) \\\n",
    "       .agg({'date_2':'size',\"adj_rate\":\"median\"}) \\\n",
    "       .rename(columns={'date_2':'count', 'adj_rate':'median_wage'})"
   ]
  },
  {
   "cell_type": "code",
   "execution_count": 131,
   "metadata": {},
   "outputs": [],
   "source": [
    "sns.set_style(\"darkgrid\")"
   ]
  },
  {
   "cell_type": "code",
   "execution_count": 132,
   "metadata": {},
   "outputs": [
    {
     "data": {
      "text/plain": [
       "Text(0, 0.5, 'Median Wage in USD')"
      ]
     },
     "execution_count": 132,
     "metadata": {},
     "output_type": "execute_result"
    },
    {
     "data": {
      "image/png": "[encoded data removed]",
      "text/plain": [
       "<Figure size 432x288 with 1 Axes>"
      ]
     },
     "metadata": {},
     "output_type": "display_data"
    }
   ],
   "source": [
    "category = category.sort_values(by='count',ascending=False)\n",
    "chart = sns.barplot(x=category.index, y=\"median_wage\", data=category)\n",
    "chart.set_xticklabels(rotation=90, labels=category.index )\n",
    "chart.set_xlabel('Major Job Category')\n",
    "chart.set_ylabel('Median Wage in USD')\n",
    "#plt.savefig('wage_category1.png',dpi=300,bbox_inches = \"tight\")"
   ]
  },
  {
   "cell_type": "markdown",
   "metadata": {},
   "source": [
    "## Figure: Evolution of wages over time"
   ]
  },
  {
   "cell_type": "markdown",
   "metadata": {},
   "source": [
    "### a: Total median over time"
   ]
  },
  {
   "cell_type": "code",
   "execution_count": 145,
   "metadata": {},
   "outputs": [],
   "source": [
    "sns.set_style(\"dark\")"
   ]
  },
  {
   "cell_type": "code",
   "execution_count": 22,
   "metadata": {},
   "outputs": [],
   "source": [
    "# Create date_time object\n",
    "df[\"date_3\"] = pd.to_datetime(df.date_2)\n",
    "# As datetime object\n",
    "df['month_year'] = pd.to_datetime(df['date_3']).dt.to_period('M')"
   ]
  },
  {
   "cell_type": "code",
   "execution_count": 23,
   "metadata": {},
   "outputs": [],
   "source": [
    "# overall median wage by month\n",
    "monthly = df.groupby(['month_year']) \\\n",
    "       .agg({'date_2':'size',\"adj_rate\":\"median\"}) \\\n",
    "       .rename(columns={'date':'count', 'adj_rate':'median_wage'})"
   ]
  },
  {
   "cell_type": "code",
   "execution_count": 109,
   "metadata": {},
   "outputs": [
    {
     "data": {
      "image/png": "[encoded data removed]",
      "text/plain": [
       "<Figure size 432x288 with 1 Axes>"
      ]
     },
     "metadata": {},
     "output_type": "display_data"
    }
   ],
   "source": [
    "# Count per month all categories (date as string)\n",
    "\n",
    "# Create month_year column\n",
    "df['month_year'] = pd.to_datetime(df['date_3']).dt.to_period('Q')\n",
    "df['month_year'] = df['month_year'].values.astype(str)\n",
    "\n",
    "monthly_median = df.groupby(['month_year']) \\\n",
    "       .agg({'date_2':'size',\"adj_rate\":\"median\"}) \\\n",
    "       .rename(columns={'date':'count', 'adj_rate':'median_wage'})\n",
    "\n",
    "monthly_median = monthly_median[monthly_median[\"date_2\"] > 10]\n",
    "\n",
    "ax = sns.lineplot(x = monthly_median.index, y=monthly_median.median_wage)\n",
    "ticks = ax.set_xticklabels(rotation=90, labels=monthly_median.index)\n",
    "ax.set_xlabel('Year-Quarter')\n",
    "ax.set_ylabel('Median Wage in USD')\n",
    "plt.savefig('wage_over_time.png',dpi=300,bbox_inches = \"tight\")"
   ]
  },
  {
   "cell_type": "markdown",
   "metadata": {},
   "source": [
    "### b: Median by skill over time"
   ]
  },
  {
   "cell_type": "code",
   "execution_count": 166,
   "metadata": {},
   "outputs": [],
   "source": [
    "monthly = df.groupby(['skill_level','month_year'],as_index=False) \\\n",
    "       .agg({'date_2':'size',\"adj_rate\":\"median\"}) \\\n",
    "       .rename(columns={'date_2':'count', 'adj_rate':'median_wage'})\n"
   ]
  },
  {
   "cell_type": "code",
   "execution_count": 150,
   "metadata": {},
   "outputs": [
    {
     "data": {
      "text/html": [
       "<div>\n",
       "<style scoped>\n",
       "    .dataframe tbody tr th:only-of-type {\n",
       "        vertical-align: middle;\n",
       "    }\n",
       "\n",
       "    .dataframe tbody tr th {\n",
       "        vertical-align: top;\n",
       "    }\n",
       "\n",
       "    .dataframe thead th {\n",
       "        text-align: right;\n",
       "    }\n",
       "</style>\n",
       "<table border=\"1\" class=\"dataframe\">\n",
       "  <thead>\n",
       "    <tr style=\"text-align: right;\">\n",
       "      <th></th>\n",
       "      <th>skill_level</th>\n",
       "      <th>month_year</th>\n",
       "      <th>count</th>\n",
       "      <th>median_wage</th>\n",
       "    </tr>\n",
       "  </thead>\n",
       "  <tbody>\n",
       "    <tr>\n",
       "      <th>2</th>\n",
       "      <td>high</td>\n",
       "      <td>2016Q3</td>\n",
       "      <td>5526</td>\n",
       "      <td>31.5</td>\n",
       "    </tr>\n",
       "    <tr>\n",
       "      <th>3</th>\n",
       "      <td>high</td>\n",
       "      <td>2016Q4</td>\n",
       "      <td>12305</td>\n",
       "      <td>30.0</td>\n",
       "    </tr>\n",
       "    <tr>\n",
       "      <th>4</th>\n",
       "      <td>high</td>\n",
       "      <td>2017Q1</td>\n",
       "      <td>14182</td>\n",
       "      <td>29.4</td>\n",
       "    </tr>\n",
       "    <tr>\n",
       "      <th>5</th>\n",
       "      <td>high</td>\n",
       "      <td>2017Q2</td>\n",
       "      <td>25908</td>\n",
       "      <td>29.9</td>\n",
       "    </tr>\n",
       "    <tr>\n",
       "      <th>6</th>\n",
       "      <td>high</td>\n",
       "      <td>2017Q3</td>\n",
       "      <td>36104</td>\n",
       "      <td>29.4</td>\n",
       "    </tr>\n",
       "    <tr>\n",
       "      <th>7</th>\n",
       "      <td>high</td>\n",
       "      <td>2017Q4</td>\n",
       "      <td>30455</td>\n",
       "      <td>29.4</td>\n",
       "    </tr>\n",
       "    <tr>\n",
       "      <th>8</th>\n",
       "      <td>high</td>\n",
       "      <td>2018Q1</td>\n",
       "      <td>19513</td>\n",
       "      <td>28.7</td>\n",
       "    </tr>\n",
       "    <tr>\n",
       "      <th>9</th>\n",
       "      <td>high</td>\n",
       "      <td>2018Q2</td>\n",
       "      <td>17640</td>\n",
       "      <td>29.2</td>\n",
       "    </tr>\n",
       "    <tr>\n",
       "      <th>10</th>\n",
       "      <td>high</td>\n",
       "      <td>2018Q3</td>\n",
       "      <td>12296</td>\n",
       "      <td>30.1</td>\n",
       "    </tr>\n",
       "    <tr>\n",
       "      <th>11</th>\n",
       "      <td>high</td>\n",
       "      <td>2018Q4</td>\n",
       "      <td>19420</td>\n",
       "      <td>30.6</td>\n",
       "    </tr>\n",
       "    <tr>\n",
       "      <th>12</th>\n",
       "      <td>high</td>\n",
       "      <td>2019Q1</td>\n",
       "      <td>31656</td>\n",
       "      <td>30.6</td>\n",
       "    </tr>\n",
       "    <tr>\n",
       "      <th>13</th>\n",
       "      <td>high</td>\n",
       "      <td>2019Q2</td>\n",
       "      <td>33399</td>\n",
       "      <td>31.1</td>\n",
       "    </tr>\n",
       "    <tr>\n",
       "      <th>14</th>\n",
       "      <td>high</td>\n",
       "      <td>2019Q3</td>\n",
       "      <td>37020</td>\n",
       "      <td>31.1</td>\n",
       "    </tr>\n",
       "    <tr>\n",
       "      <th>15</th>\n",
       "      <td>high</td>\n",
       "      <td>2019Q4</td>\n",
       "      <td>7506</td>\n",
       "      <td>31.1</td>\n",
       "    </tr>\n",
       "    <tr>\n",
       "      <th>18</th>\n",
       "      <td>low</td>\n",
       "      <td>2016Q3</td>\n",
       "      <td>2254</td>\n",
       "      <td>21.5</td>\n",
       "    </tr>\n",
       "    <tr>\n",
       "      <th>19</th>\n",
       "      <td>low</td>\n",
       "      <td>2016Q4</td>\n",
       "      <td>4951</td>\n",
       "      <td>21.5</td>\n",
       "    </tr>\n",
       "    <tr>\n",
       "      <th>20</th>\n",
       "      <td>low</td>\n",
       "      <td>2017Q1</td>\n",
       "      <td>6184</td>\n",
       "      <td>20.6</td>\n",
       "    </tr>\n",
       "    <tr>\n",
       "      <th>21</th>\n",
       "      <td>low</td>\n",
       "      <td>2017Q2</td>\n",
       "      <td>10481</td>\n",
       "      <td>21.1</td>\n",
       "    </tr>\n",
       "    <tr>\n",
       "      <th>22</th>\n",
       "      <td>low</td>\n",
       "      <td>2017Q3</td>\n",
       "      <td>15813</td>\n",
       "      <td>21.5</td>\n",
       "    </tr>\n",
       "    <tr>\n",
       "      <th>23</th>\n",
       "      <td>low</td>\n",
       "      <td>2017Q4</td>\n",
       "      <td>12972</td>\n",
       "      <td>21.1</td>\n",
       "    </tr>\n",
       "    <tr>\n",
       "      <th>24</th>\n",
       "      <td>low</td>\n",
       "      <td>2018Q1</td>\n",
       "      <td>7370</td>\n",
       "      <td>19.1</td>\n",
       "    </tr>\n",
       "    <tr>\n",
       "      <th>25</th>\n",
       "      <td>low</td>\n",
       "      <td>2018Q2</td>\n",
       "      <td>6518</td>\n",
       "      <td>19.1</td>\n",
       "    </tr>\n",
       "    <tr>\n",
       "      <th>26</th>\n",
       "      <td>low</td>\n",
       "      <td>2018Q3</td>\n",
       "      <td>5191</td>\n",
       "      <td>19.6</td>\n",
       "    </tr>\n",
       "    <tr>\n",
       "      <th>27</th>\n",
       "      <td>low</td>\n",
       "      <td>2018Q4</td>\n",
       "      <td>7082</td>\n",
       "      <td>20.5</td>\n",
       "    </tr>\n",
       "    <tr>\n",
       "      <th>28</th>\n",
       "      <td>low</td>\n",
       "      <td>2019Q1</td>\n",
       "      <td>11608</td>\n",
       "      <td>20.5</td>\n",
       "    </tr>\n",
       "    <tr>\n",
       "      <th>29</th>\n",
       "      <td>low</td>\n",
       "      <td>2019Q2</td>\n",
       "      <td>14118</td>\n",
       "      <td>20.5</td>\n",
       "    </tr>\n",
       "    <tr>\n",
       "      <th>30</th>\n",
       "      <td>low</td>\n",
       "      <td>2019Q3</td>\n",
       "      <td>16842</td>\n",
       "      <td>19.6</td>\n",
       "    </tr>\n",
       "    <tr>\n",
       "      <th>31</th>\n",
       "      <td>low</td>\n",
       "      <td>2019Q4</td>\n",
       "      <td>3217</td>\n",
       "      <td>20.5</td>\n",
       "    </tr>\n",
       "    <tr>\n",
       "      <th>34</th>\n",
       "      <td>medium</td>\n",
       "      <td>2016Q3</td>\n",
       "      <td>4267</td>\n",
       "      <td>30.0</td>\n",
       "    </tr>\n",
       "    <tr>\n",
       "      <th>35</th>\n",
       "      <td>medium</td>\n",
       "      <td>2016Q4</td>\n",
       "      <td>9589</td>\n",
       "      <td>31.5</td>\n",
       "    </tr>\n",
       "    <tr>\n",
       "      <th>36</th>\n",
       "      <td>medium</td>\n",
       "      <td>2017Q1</td>\n",
       "      <td>11193</td>\n",
       "      <td>29.4</td>\n",
       "    </tr>\n",
       "    <tr>\n",
       "      <th>37</th>\n",
       "      <td>medium</td>\n",
       "      <td>2017Q2</td>\n",
       "      <td>20390</td>\n",
       "      <td>29.4</td>\n",
       "    </tr>\n",
       "    <tr>\n",
       "      <th>38</th>\n",
       "      <td>medium</td>\n",
       "      <td>2017Q3</td>\n",
       "      <td>28449</td>\n",
       "      <td>28.9</td>\n",
       "    </tr>\n",
       "    <tr>\n",
       "      <th>39</th>\n",
       "      <td>medium</td>\n",
       "      <td>2017Q4</td>\n",
       "      <td>23860</td>\n",
       "      <td>28.4</td>\n",
       "    </tr>\n",
       "    <tr>\n",
       "      <th>40</th>\n",
       "      <td>medium</td>\n",
       "      <td>2018Q1</td>\n",
       "      <td>13740</td>\n",
       "      <td>28.7</td>\n",
       "    </tr>\n",
       "    <tr>\n",
       "      <th>41</th>\n",
       "      <td>medium</td>\n",
       "      <td>2018Q2</td>\n",
       "      <td>12431</td>\n",
       "      <td>28.7</td>\n",
       "    </tr>\n",
       "    <tr>\n",
       "      <th>42</th>\n",
       "      <td>medium</td>\n",
       "      <td>2018Q3</td>\n",
       "      <td>8509</td>\n",
       "      <td>29.2</td>\n",
       "    </tr>\n",
       "    <tr>\n",
       "      <th>43</th>\n",
       "      <td>medium</td>\n",
       "      <td>2018Q4</td>\n",
       "      <td>11962</td>\n",
       "      <td>30.1</td>\n",
       "    </tr>\n",
       "    <tr>\n",
       "      <th>44</th>\n",
       "      <td>medium</td>\n",
       "      <td>2019Q1</td>\n",
       "      <td>20454</td>\n",
       "      <td>30.1</td>\n",
       "    </tr>\n",
       "    <tr>\n",
       "      <th>45</th>\n",
       "      <td>medium</td>\n",
       "      <td>2019Q2</td>\n",
       "      <td>25009</td>\n",
       "      <td>30.1</td>\n",
       "    </tr>\n",
       "    <tr>\n",
       "      <th>46</th>\n",
       "      <td>medium</td>\n",
       "      <td>2019Q3</td>\n",
       "      <td>29786</td>\n",
       "      <td>31.1</td>\n",
       "    </tr>\n",
       "    <tr>\n",
       "      <th>47</th>\n",
       "      <td>medium</td>\n",
       "      <td>2019Q4</td>\n",
       "      <td>6237</td>\n",
       "      <td>32.0</td>\n",
       "    </tr>\n",
       "  </tbody>\n",
       "</table>\n",
       "</div>"
      ],
      "text/plain": [
       "   skill_level month_year  count  median_wage\n",
       "2         high     2016Q3   5526         31.5\n",
       "3         high     2016Q4  12305         30.0\n",
       "4         high     2017Q1  14182         29.4\n",
       "5         high     2017Q2  25908         29.9\n",
       "6         high     2017Q3  36104         29.4\n",
       "7         high     2017Q4  30455         29.4\n",
       "8         high     2018Q1  19513         28.7\n",
       "9         high     2018Q2  17640         29.2\n",
       "10        high     2018Q3  12296         30.1\n",
       "11        high     2018Q4  19420         30.6\n",
       "12        high     2019Q1  31656         30.6\n",
       "13        high     2019Q2  33399         31.1\n",
       "14        high     2019Q3  37020         31.1\n",
       "15        high     2019Q4   7506         31.1\n",
       "18         low     2016Q3   2254         21.5\n",
       "19         low     2016Q4   4951         21.5\n",
       "20         low     2017Q1   6184         20.6\n",
       "21         low     2017Q2  10481         21.1\n",
       "22         low     2017Q3  15813         21.5\n",
       "23         low     2017Q4  12972         21.1\n",
       "24         low     2018Q1   7370         19.1\n",
       "25         low     2018Q2   6518         19.1\n",
       "26         low     2018Q3   5191         19.6\n",
       "27         low     2018Q4   7082         20.5\n",
       "28         low     2019Q1  11608         20.5\n",
       "29         low     2019Q2  14118         20.5\n",
       "30         low     2019Q3  16842         19.6\n",
       "31         low     2019Q4   3217         20.5\n",
       "34      medium     2016Q3   4267         30.0\n",
       "35      medium     2016Q4   9589         31.5\n",
       "36      medium     2017Q1  11193         29.4\n",
       "37      medium     2017Q2  20390         29.4\n",
       "38      medium     2017Q3  28449         28.9\n",
       "39      medium     2017Q4  23860         28.4\n",
       "40      medium     2018Q1  13740         28.7\n",
       "41      medium     2018Q2  12431         28.7\n",
       "42      medium     2018Q3   8509         29.2\n",
       "43      medium     2018Q4  11962         30.1\n",
       "44      medium     2019Q1  20454         30.1\n",
       "45      medium     2019Q2  25009         30.1\n",
       "46      medium     2019Q3  29786         31.1\n",
       "47      medium     2019Q4   6237         32.0"
      ]
     },
     "execution_count": 150,
     "metadata": {},
     "output_type": "execute_result"
    }
   ],
   "source": [
    "monthly[monthly[\"count\"] > 10].tail(50)"
   ]
  },
  {
   "cell_type": "code",
   "execution_count": 143,
   "metadata": {},
   "outputs": [],
   "source": [
    "#monthly = monthly.sort_values(\"skill_level\", ascending=True)"
   ]
  },
  {
   "cell_type": "code",
   "execution_count": 167,
   "metadata": {},
   "outputs": [
    {
     "data": {
      "image/png": "[encoded data removed]",
      "text/plain": [
       "<Figure size 432x288 with 1 Axes>"
      ]
     },
     "metadata": {},
     "output_type": "display_data"
    }
   ],
   "source": [
    "ax = sns.lineplot(x='month_year', y='median_wage', hue='skill_level', hue_order=[\"low\",\"medium\",\"high\"], \n",
    "             data=monthly[monthly[\"count\"] > 10])\n",
    "#plt.legend(bbox_to_anchor=(1.05, 1), loc=2, borderaxespad=0.) # put legend outside\n",
    "ax.set_xticklabels(rotation=90, labels=monthly[monthly[\"count\"] > 10].month_year)\n",
    "plt.xlabel(\"Year-Quarter\")\n",
    "plt.ylabel(\"Median Wage in USD\")\n",
    "plt.savefig('wage_by_skill_time.png',dpi=300,bbox_inches = \"tight\")"
   ]
  },
  {
   "cell_type": "markdown",
   "metadata": {},
   "source": [
    "# Figure: Wages over time by job category"
   ]
  },
  {
   "cell_type": "code",
   "execution_count": 168,
   "metadata": {},
   "outputs": [],
   "source": [
    "# Wage by category over time\n",
    "\n",
    "monthly = df.groupby(['category_1','month_year'],as_index=False) \\\n",
    "       .agg({'date_2':'size',\"adj_rate\":\"median\"}) \\\n",
    "       .rename(columns={'date_2':'count', 'adj_rate':'median_wage'})\n",
    "\n",
    "#monthly = monthly[monthly[\"count\"] > 10]"
   ]
  },
  {
   "cell_type": "code",
   "execution_count": 169,
   "metadata": {},
   "outputs": [
    {
     "data": {
      "image/png": "[encoded data removed]",
      "text/plain": [
       "<Figure size 432x288 with 1 Axes>"
      ]
     },
     "metadata": {},
     "output_type": "display_data"
    }
   ],
   "source": [
    "ax = sns.lineplot(x='month_year', y='median_wage', hue='category_1', \n",
    "             data=monthly[monthly[\"count\"] > 10].sort_values(\"median_wage\", ascending=False))\n",
    "plt.legend(bbox_to_anchor=(1.05, 1), loc=2, borderaxespad=0.) # put legend outside\n",
    "ax.set_xticklabels(rotation=90, labels=monthly[monthly[\"count\"] > 10].month_year)\n",
    "plt.xlabel(\"Year-Quarter\")\n",
    "plt.ylabel(\"Median Wage in USD\")\n",
    "plt.savefig('wage_by_category.png',dpi=300,bbox_inches = \"tight\")"
   ]
  },
  {
   "cell_type": "code",
   "execution_count": null,
   "metadata": {},
   "outputs": [],
   "source": []
  }
 ],
 "metadata": {
  "kernelspec": {
   "display_name": "Python 3",
   "language": "python",
   "name": "python3"
  },
  "language_info": {
   "codemirror_mode": {
    "name": "ipython",
    "version": 3
   },
   "file_extension": ".py",
   "mimetype": "text/x-python",
   "name": "python",
   "nbconvert_exporter": "python",
   "pygments_lexer": "ipython3",
   "version": "3.7.6"
  }
 },
 "nbformat": 4,
 "nbformat_minor": 4
}
