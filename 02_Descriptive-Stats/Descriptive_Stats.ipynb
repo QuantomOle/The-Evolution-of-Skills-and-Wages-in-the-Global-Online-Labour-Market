{
 "cells": [
  {
   "cell_type": "markdown",
   "metadata": {},
   "source": [
    "# Descriptive Statistics\n",
    "\n",
    "Exploring the data"
   ]
  },
  {
   "cell_type": "code",
   "execution_count": null,
   "metadata": {},
   "outputs": [],
   "source": [
    "import numpy as np\n",
    "import ast\n",
    "import re\n",
    "import pandas as pd\n",
    "import matplotlib.pyplot as plt\n",
    "import seaborn as sns\n",
    "import datetime\n",
    "import plotly.graph_objects as go\n",
    "%matplotlib inline"
   ]
  },
  {
   "cell_type": "markdown",
   "metadata": {},
   "source": [
    "## Load data"
   ]
  },
  {
   "cell_type": "code",
   "execution_count": null,
   "metadata": {},
   "outputs": [],
   "source": [
    "df = pd.read_json(\"data_clean.json\")"
   ]
  },
  {
   "cell_type": "markdown",
   "metadata": {},
   "source": [
    "## General Overview"
   ]
  },
  {
   "cell_type": "code",
   "execution_count": null,
   "metadata": {},
   "outputs": [],
   "source": [
    "# Number of observations\n",
    "print('There are',df.shpae[0],'observations.')"
   ]
  },
  {
   "cell_type": "code",
   "execution_count": null,
   "metadata": {},
   "outputs": [],
   "source": [
    "# Wage\n",
    "print('The mean wage is', df.rate.mean())\n",
    "print('The median wage is', df.rate.median())\n",
    "print('The standard deviation is',df.rate.std())"
   ]
  },
  {
   "cell_type": "code",
   "execution_count": null,
   "metadata": {},
   "outputs": [],
   "source": [
    "# wage distribution\n",
    "sns.set_style(\"darkgrid\")\n",
    "sns.distplot(df.rate)\n",
    "plt.savefig('wage_distribution.png',dpi=300)"
   ]
  },
  {
   "cell_type": "code",
   "execution_count": 148,
   "metadata": {},
   "outputs": [
    {
     "data": {
      "text/plain": [
       "93"
      ]
     },
     "execution_count": 148,
     "metadata": {},
     "output_type": "execute_result"
    }
   ],
   "source": [
    "# Job categories\n",
    "print('Number of major job categories:', len(df.category_1.unique()))\n",
    "print('Number of minor job categories:', len(df.category_2.unique()))"
   ]
  },
  {
   "cell_type": "code",
   "execution_count": null,
   "metadata": {},
   "outputs": [],
   "source": [
    "# Count and median wage by job category\n",
    "df.groupby(['category_1']) \\\n",
    "       .agg({'date':'size',\"rate\":\"median\"}) \\\n",
    "       .rename(columns={'date':'count', 'rate':'median_wage'})"
   ]
  },
  {
   "cell_type": "markdown",
   "metadata": {},
   "source": [
    "## Skills"
   ]
  },
  {
   "cell_type": "code",
   "execution_count": 6,
   "metadata": {},
   "outputs": [],
   "source": [
    "# Count how many times each skill occurs\n",
    "\n",
    "skill_dict = { i : 0 for i in list_of_skills }\n",
    "\n",
    "for index, row in df.skills.iteritems():\n",
    "    \n",
    "    if  isinstance(row,list):\n",
    "        \n",
    "        for skill in row:\n",
    "            skill_dict[skill] += 1\n",
    "    \n",
    "    if  isinstance(row,str):\n",
    "        \n",
    "        skill_dict[row] += 1\n",
    "\n",
    "    else:\n",
    "        pass   "
   ]
  },
  {
   "cell_type": "code",
   "execution_count": 8,
   "metadata": {},
   "outputs": [],
   "source": [
    "# Save dict of skill count\n",
    "import pickle\n",
    "\n",
    "filename = 'dict_of_skills'\n",
    "outfile = open(filename,'wb')\n",
    "pickle.dump(skill_dict,outfile)\n",
    "outfile.close()"
   ]
  },
  {
   "cell_type": "code",
   "execution_count": null,
   "metadata": {},
   "outputs": [],
   "source": [
    "# Load dict\n",
    "import pickle\n",
    "filename = 'dict_of_skills'\n",
    "infile = open(filename,'rb')\n",
    "skill_dict = pickle.load(infile)\n",
    "infile.close()"
   ]
  },
  {
   "cell_type": "code",
   "execution_count": 7,
   "metadata": {},
   "outputs": [
    {
     "data": {
      "text/html": [
       "<div>\n",
       "<style scoped>\n",
       "    .dataframe tbody tr th:only-of-type {\n",
       "        vertical-align: middle;\n",
       "    }\n",
       "\n",
       "    .dataframe tbody tr th {\n",
       "        vertical-align: top;\n",
       "    }\n",
       "\n",
       "    .dataframe thead th {\n",
       "        text-align: right;\n",
       "    }\n",
       "</style>\n",
       "<table border=\"1\" class=\"dataframe\">\n",
       "  <thead>\n",
       "    <tr style=\"text-align: right;\">\n",
       "      <th></th>\n",
       "      <th>count</th>\n",
       "    </tr>\n",
       "  </thead>\n",
       "  <tbody>\n",
       "    <tr>\n",
       "      <th>wordpress</th>\n",
       "      <td>52694</td>\n",
       "    </tr>\n",
       "    <tr>\n",
       "      <th>javascript</th>\n",
       "      <td>50722</td>\n",
       "    </tr>\n",
       "    <tr>\n",
       "      <th>graphic-design</th>\n",
       "      <td>50445</td>\n",
       "    </tr>\n",
       "    <tr>\n",
       "      <th>web-design</th>\n",
       "      <td>49438</td>\n",
       "    </tr>\n",
       "    <tr>\n",
       "      <th>website-development</th>\n",
       "      <td>49187</td>\n",
       "    </tr>\n",
       "    <tr>\n",
       "      <th>css</th>\n",
       "      <td>40080</td>\n",
       "    </tr>\n",
       "    <tr>\n",
       "      <th>php</th>\n",
       "      <td>39972</td>\n",
       "    </tr>\n",
       "    <tr>\n",
       "      <th>content-writing</th>\n",
       "      <td>39239</td>\n",
       "    </tr>\n",
       "    <tr>\n",
       "      <th>adobe-photoshop</th>\n",
       "      <td>38856</td>\n",
       "    </tr>\n",
       "    <tr>\n",
       "      <th>data-entry</th>\n",
       "      <td>36918</td>\n",
       "    </tr>\n",
       "  </tbody>\n",
       "</table>\n",
       "</div>"
      ],
      "text/plain": [
       "                     count\n",
       "wordpress            52694\n",
       "javascript           50722\n",
       "graphic-design       50445\n",
       "web-design           49438\n",
       "website-development  49187\n",
       "css                  40080\n",
       "php                  39972\n",
       "content-writing      39239\n",
       "adobe-photoshop      38856\n",
       "data-entry           36918"
      ]
     },
     "execution_count": 7,
     "metadata": {},
     "output_type": "execute_result"
    }
   ],
   "source": [
    "# Top 10 skills in terms of frequency\n",
    "skill_count = pd.DataFrame.from_dict(skill_dict, orient='index',columns=['count'])\n",
    "skill_count = skill_count.sort_values(\"count\", ascending=False)\n",
    "skill_count.sort_values(\"count\", ascending=False).head(10)"
   ]
  },
  {
   "cell_type": "code",
   "execution_count": null,
   "metadata": {},
   "outputs": [],
   "source": [
    "# Number of unique skills\n",
    "print('Number of unique skills is:',skill_count.shape[0])"
   ]
  }
 ],
 "metadata": {
  "kernelspec": {
   "display_name": "Python 3",
   "language": "python",
   "name": "python3"
  },
  "language_info": {
   "codemirror_mode": {
    "name": "ipython",
    "version": 3
   },
   "file_extension": ".py",
   "mimetype": "text/x-python",
   "name": "python",
   "nbconvert_exporter": "python",
   "pygments_lexer": "ipython3",
   "version": "3.7.6"
  }
 },
 "nbformat": 4,
 "nbformat_minor": 4
}
