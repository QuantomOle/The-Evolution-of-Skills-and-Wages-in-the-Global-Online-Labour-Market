{
 "cells": [
  {
   "cell_type": "markdown",
   "metadata": {},
   "source": [
    "# Clean csv files\n",
    "cleaning up the data to only contain the necessary information"
   ]
  },
  {
   "cell_type": "code",
   "execution_count": 1,
   "metadata": {},
   "outputs": [],
   "source": [
    "import os\n",
    "import glob\n",
    "import pandas as pd\n",
    "import numpy as np\n",
    "from datetime import datetime"
   ]
  },
  {
   "cell_type": "code",
   "execution_count": 6,
   "metadata": {},
   "outputs": [],
   "source": [
    "def substract(a, b):                              \n",
    "    return \"\".join(a.rsplit(b))"
   ]
  },
  {
   "cell_type": "code",
   "execution_count": 2,
   "metadata": {},
   "outputs": [],
   "source": [
    "extension = 'csv'\n",
    "all_filenames = [i for i in glob.glob('*.{}'.format(extension))]"
   ]
  },
  {
   "cell_type": "code",
   "execution_count": 3,
   "metadata": {},
   "outputs": [],
   "source": [
    "# number of fixed projects deleted\n",
    "fixed_projects = 0"
   ]
  },
  {
   "cell_type": "code",
   "execution_count": 9,
   "metadata": {},
   "outputs": [],
   "source": [
    "for filename in all_filenames:\n",
    "    \n",
    "    # read in a single csv\n",
    "    df = pd.read_csv(filename)\n",
    "    \n",
    "    # limit to only hourly projects\n",
    "    df.rate = df.rate.fillna(-1)\n",
    "    fixed = df[ df['rate'] == -1].index\n",
    "    df.drop(fixed, inplace=True)\n",
    "    df.reset_index(drop=True, inplace=True)\n",
    "    \n",
    "    # count how many projects are deleted\n",
    "    fixed_projects += fixed.size\n",
    "    \n",
    "    # Transform date (delete the last three zeros)\n",
    "    df.date = (df.date/1000).astype(int)\n",
    "    df['date_2'] = df.date.apply(lambda x: datetime.utcfromtimestamp(x).strftime('%Y-%m-%d'))\n",
    "    \n",
    "    # Extract buyer information\n",
    "\n",
    "    # Transform type str to dict\n",
    "    import ast \n",
    "    res = ast.literal_eval(df.buyer[0])\n",
    "    df['buyer'] = df.buyer.apply(lambda x: ast.literal_eval(x))\n",
    "\n",
    "    # Country of employer\n",
    "    country = []\n",
    "\n",
    "    for i in df.buyer.index:\n",
    "        try:\n",
    "            country.append(df.buyer[i]['op_country'])\n",
    "        except:\n",
    "            country.append(np.nan)\n",
    "\n",
    "    df['employer_country'] = country\n",
    "\n",
    "    # city of employer\n",
    "    city = []\n",
    "\n",
    "    for i in df.buyer.index:\n",
    "        try:\n",
    "            city.append(df.buyer[i]['op_city'])\n",
    "        except:\n",
    "            city.append(np.nan)\n",
    "\n",
    "    df['employer_city'] = city\n",
    "    \n",
    "    # drop assignment and candidate information\n",
    "    df.drop(columns=['candidates','assignments','assignment_info','buyer','amount'], inplace=True)\n",
    "    \n",
    "    # Write clean csv file\n",
    "    name = substract(filename,'.csv')\n",
    "    df.to_csv(\"clean/\" + name + \"_clean\"+\".csv\", index= False)\n"
   ]
  }
 ],
 "metadata": {
  "kernelspec": {
   "display_name": "Python 3",
   "language": "python",
   "name": "python3"
  },
  "language_info": {
   "codemirror_mode": {
    "name": "ipython",
    "version": 3
   },
   "file_extension": ".py",
   "mimetype": "text/x-python",
   "name": "python",
   "nbconvert_exporter": "python",
   "pygments_lexer": "ipython3",
   "version": "3.7.6"
  }
 },
 "nbformat": 4,
 "nbformat_minor": 4
}
