{
 "cells": [
  {
   "cell_type": "markdown",
   "metadata": {},
   "source": [
    "# SOC skill scores\n",
    "\n",
    "Map upwork job categories to SOC occupations and assign skill score"
   ]
  },
  {
   "cell_type": "code",
   "execution_count": 1,
   "metadata": {},
   "outputs": [],
   "source": [
    "import numpy as np\n",
    "import ast\n",
    "import re\n",
    "import pandas as pd\n",
    "import matplotlib.pyplot as plt\n",
    "import seaborn as sns\n",
    "import datetime\n",
    "import plotly.graph_objects as go\n",
    "%matplotlib inline"
   ]
  },
  {
   "cell_type": "markdown",
   "metadata": {},
   "source": [
    "## Load data"
   ]
  },
  {
   "cell_type": "code",
   "execution_count": 77,
   "metadata": {},
   "outputs": [],
   "source": [
    "df = pd.read_csv(\"ole_data.csv\")"
   ]
  },
  {
   "cell_type": "code",
   "execution_count": 78,
   "metadata": {},
   "outputs": [],
   "source": [
    "translator = pd.read_excel(\"2018-01-11 SOCcer Grouped Results Classified.xlsx\")"
   ]
  },
  {
   "cell_type": "code",
   "execution_count": 79,
   "metadata": {},
   "outputs": [],
   "source": [
    "# Only keep these two columns\n",
    "\n",
    "# Official occupations I merge on: detailedOccupations\n",
    "# Upwork job titles: jobTitle\n",
    "\n",
    "translation = translator[['detailedOccupations', 'jobTitle']].copy()"
   ]
  },
  {
   "cell_type": "markdown",
   "metadata": {},
   "source": [
    "### Transform and merge"
   ]
  },
  {
   "cell_type": "code",
   "execution_count": 80,
   "metadata": {},
   "outputs": [],
   "source": [
    "skill_occupation = df.groupby(['project_occupation'],as_index=False) \\\n",
    "       .agg({\"SkillScore\":\"mean\"})"
   ]
  },
  {
   "cell_type": "code",
   "execution_count": 81,
   "metadata": {},
   "outputs": [],
   "source": [
    "# Merge\n",
    "pd.set_option('display.max_rows', 90)\n",
    "skill_scores = translation.merge(skill_occupation, how='left',left_on=\"detailedOccupations\", right_on=\"project_occupation\")"
   ]
  },
  {
   "cell_type": "markdown",
   "metadata": {},
   "source": [
    "### Load labour market data"
   ]
  },
  {
   "cell_type": "code",
   "execution_count": 49,
   "metadata": {},
   "outputs": [],
   "source": [
    "df = pd.read_json(\"/Users/oleteutloff/Desktop/Madda_Network/data_clean.json\")"
   ]
  },
  {
   "cell_type": "code",
   "execution_count": 51,
   "metadata": {},
   "outputs": [],
   "source": [
    "skill_occupation = df.groupby(['category_2'],as_index=False) \\\n",
    "       .agg({\"date\":\"size\"})"
   ]
  },
  {
   "cell_type": "code",
   "execution_count": 54,
   "metadata": {},
   "outputs": [
    {
     "data": {
      "text/html": [
       "<div>\n",
       "<style scoped>\n",
       "    .dataframe tbody tr th:only-of-type {\n",
       "        vertical-align: middle;\n",
       "    }\n",
       "\n",
       "    .dataframe tbody tr th {\n",
       "        vertical-align: top;\n",
       "    }\n",
       "\n",
       "    .dataframe thead th {\n",
       "        text-align: right;\n",
       "    }\n",
       "</style>\n",
       "<table border=\"1\" class=\"dataframe\">\n",
       "  <thead>\n",
       "    <tr style=\"text-align: right;\">\n",
       "      <th></th>\n",
       "      <th>category_2</th>\n",
       "      <th>date</th>\n",
       "    </tr>\n",
       "  </thead>\n",
       "  <tbody>\n",
       "    <tr>\n",
       "      <th>0</th>\n",
       "      <td>3D Modeling &amp; CAD</td>\n",
       "      <td>5301</td>\n",
       "    </tr>\n",
       "    <tr>\n",
       "      <th>1</th>\n",
       "      <td>A/B Testing</td>\n",
       "      <td>250</td>\n",
       "    </tr>\n",
       "    <tr>\n",
       "      <th>2</th>\n",
       "      <td>Academic Writing &amp; Research</td>\n",
       "      <td>878</td>\n",
       "    </tr>\n",
       "    <tr>\n",
       "      <th>3</th>\n",
       "      <td>Accounting</td>\n",
       "      <td>8522</td>\n",
       "    </tr>\n",
       "    <tr>\n",
       "      <th>4</th>\n",
       "      <td>Animation</td>\n",
       "      <td>7270</td>\n",
       "    </tr>\n",
       "  </tbody>\n",
       "</table>\n",
       "</div>"
      ],
      "text/plain": [
       "                    category_2  date\n",
       "0            3D Modeling & CAD  5301\n",
       "1                  A/B Testing   250\n",
       "2  Academic Writing & Research   878\n",
       "3                   Accounting  8522\n",
       "4                    Animation  7270"
      ]
     },
     "execution_count": 54,
     "metadata": {},
     "output_type": "execute_result"
    }
   ],
   "source": [
    "skill_occupation.head()"
   ]
  },
  {
   "cell_type": "code",
   "execution_count": 58,
   "metadata": {},
   "outputs": [],
   "source": [
    "pd.set_option('display.max_rows', 93)\n",
    "test = skill_occupation.merge(skill_scores, how='left',left_on=\"category_2\", right_on=\"jobTitle\")"
   ]
  },
  {
   "cell_type": "code",
   "execution_count": 60,
   "metadata": {
    "collapsed": true,
    "jupyter": {
     "outputs_hidden": true
    }
   },
   "outputs": [
    {
     "data": {
      "text/plain": [
       "NaN          24\n",
       "62.342857    10\n",
       "70.485714     5\n",
       "60.957143     4\n",
       "70.185714     4\n",
       "67.942857     3\n",
       "72.157143     3\n",
       "65.642857     3\n",
       "70.000000     2\n",
       "47.900000     2\n",
       "53.828571     2\n",
       "71.200000     2\n",
       "52.828571     2\n",
       "58.371429     2\n",
       "60.628571     2\n",
       "61.242857     2\n",
       "82.242857     2\n",
       "54.257143     2\n",
       "47.785714     2\n",
       "68.071429     1\n",
       "73.528571     1\n",
       "59.528571     1\n",
       "47.285714     1\n",
       "54.257143     1\n",
       "47.985714     1\n",
       "70.671429     1\n",
       "72.714286     1\n",
       "44.514286     1\n",
       "61.285714     1\n",
       "59.528571     1\n",
       "61.014286     1\n",
       "50.800000     1\n",
       "53.771429     1\n",
       "52.828571     1\n",
       "Name: SkillScore, dtype: int64"
      ]
     },
     "execution_count": 60,
     "metadata": {},
     "output_type": "execute_result"
    }
   ],
   "source": [
    "test.SkillScore.value_counts(dropna=False)"
   ]
  },
  {
   "cell_type": "code",
   "execution_count": 68,
   "metadata": {},
   "outputs": [],
   "source": [
    "list_old = list(skill_scores.jobTitle.unique())"
   ]
  },
  {
   "cell_type": "code",
   "execution_count": 69,
   "metadata": {},
   "outputs": [],
   "source": [
    "list_new = list(skill_occupation.category_2.unique())"
   ]
  },
  {
   "cell_type": "code",
   "execution_count": 74,
   "metadata": {},
   "outputs": [],
   "source": [
    "def intersection(lst1, lst2): \n",
    "    lst3 = [value for value in lst1 if value in lst2] \n",
    "    return lst3 "
   ]
  },
  {
   "cell_type": "code",
   "execution_count": 76,
   "metadata": {},
   "outputs": [
    {
     "name": "stdout",
     "output_type": "stream",
     "text": [
      "82\n"
     ]
    }
   ],
   "source": [
    "# There 82 skills in the old job categories that also exist in the new job categories\n",
    "print(len(intersection(list_old, list_new)))"
   ]
  },
  {
   "cell_type": "markdown",
   "metadata": {},
   "source": [
    "# Missing\n",
    "\n",
    "A/B Testing = \n",
    "\n",
    "Art & Illustration = \n",
    "\n",
    "Architecture = \n",
    "\n",
    "Brand Identity & Strategy = \n",
    "\n",
    "Chemical Engineering = \n",
    "\n",
    "Contract Manufacturing = \n",
    "\n",
    "Criminal Law = \n",
    "\n",
    "Contract Law = \n",
    "\n",
    "Civil & Structural Engineering = \n",
    "\n",
    "Data Extraction / ETL = \n",
    "\n",
    "Data Mining & Management = \n",
    "\n",
    "Data Visualization = \n",
    "\n",
    "Editing & Proofreading = \n",
    "\n",
    "Family Law = \n",
    "\n",
    "Graphics & Design = \n",
    "\n",
    "Information Security = \n",
    "\n",
    "Intellectual Property Law = \n",
    "\n",
    "Interior Design = \n",
    "\n",
    "Mechanical Engineering = \n",
    "\n",
    "Motion Graphics = \n",
    "\n",
    "Other - Data Science & Analytics = \n",
    "\n",
    "Other - Legal = \n",
    "\n",
    "Product Design = \n",
    "\n",
    "Physical Design = "
   ]
  },
  {
   "cell_type": "code",
   "execution_count": 98,
   "metadata": {},
   "outputs": [],
   "source": [
    "del test['date']\n",
    "del test['detailedOccupations']\n",
    "del test['jobTitle']\n",
    "del test['project_occupation']"
   ]
  },
  {
   "cell_type": "code",
   "execution_count": 100,
   "metadata": {},
   "outputs": [],
   "source": [
    "test.to_csv(\"skill_scores.csv\",index=False)"
   ]
  },
  {
   "cell_type": "code",
   "execution_count": null,
   "metadata": {},
   "outputs": [],
   "source": []
  }
 ],
 "metadata": {
  "kernelspec": {
   "display_name": "Python 3",
   "language": "python",
   "name": "python3"
  },
  "language_info": {
   "codemirror_mode": {
    "name": "ipython",
    "version": 3
   },
   "file_extension": ".py",
   "mimetype": "text/x-python",
   "name": "python",
   "nbconvert_exporter": "python",
   "pygments_lexer": "ipython3",
   "version": "3.7.6"
  }
 },
 "nbformat": 4,
 "nbformat_minor": 4
}
